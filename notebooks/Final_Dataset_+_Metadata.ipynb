{
  "nbformat": 4,
  "nbformat_minor": 0,
  "metadata": {
    "colab": {
      "name": "Final Dataset + Metadata",
      "provenance": [],
      "collapsed_sections": [],
      "toc_visible": true
    },
    "kernelspec": {
      "name": "python3",
      "display_name": "Python 3"
    }
  },
  "cells": [
    {
      "cell_type": "markdown",
      "metadata": {
        "id": "rpiCUQh_G8VV"
      },
      "source": [
        "#Imports"
      ]
    },
    {
      "cell_type": "code",
      "metadata": {
        "id": "s8RtODOUxTAz"
      },
      "source": [
        "import pandas as pd"
      ],
      "execution_count": null,
      "outputs": []
    },
    {
      "cell_type": "markdown",
      "metadata": {
        "id": "okzo2u6qG-tJ"
      },
      "source": [
        "#Load category CSV"
      ]
    },
    {
      "cell_type": "code",
      "metadata": {
        "colab": {
          "base_uri": "https://localhost:8080/"
        },
        "id": "zZxT3s_UYKRu",
        "outputId": "d3f25202-e5ce-4f76-d430-10d65b963238"
      },
      "source": [
        "filenames = ['AMAZON_FASHION.csv', 'Appliances.csv', 'All_Beauty.csv', 'Arts_Crafts_and_Sewing.csv', 'Automotive.csv', 'CDs_and_Vinyl.csv', 'Cell_Phones_and_Accessories.csv', 'Clothing_Shoes_and_Jewelry.csv', 'Digital_Music.csv', 'Electronics.csv', 'Gift_Cards.csv', 'Grocery_and_Gourmet_Food.csv', 'Home_and_Kitchen.csv', 'Industrial_and_Scientific.csv', 'Kindle_Store.csv', 'Luxury_Beauty.csv', 'Magazine_Subscriptions.csv', 'Movies_and_TV.csv', 'Musical_Instruments.csv', 'Office_Products.csv', 'Patio_Lawn_and_Garden.csv', 'Pet_Supplies.csv', 'Prime_Pantry.csv', 'Software.csv', 'Sports_and_Outdoors.csv', 'Tools_and_Home_Improvement.csv', 'Toys_and_Games.csv', 'Video_Games.csv']\n",
        "filename = filenames[0]\n",
        "df_categories = pd.read_csv(\"/content/categories/\" + filename)\n",
        "df_categories.head()"
      ],
      "execution_count": null,
      "outputs": [
        {
          "output_type": "stream",
          "text": [
            "['All_Beauty.csv', '__MACOSX/._All_Beauty.csv', 'Patio_Lawn_and_Garden.csv', '__MACOSX/._Patio_Lawn_and_Garden.csv', 'Video_Games.csv', '__MACOSX/._Video_Games.csv', 'Grocery_and_Gourmet_Food.csv', '__MACOSX/._Grocery_and_Gourmet_Food.csv', 'Magazine_Subscriptions.csv', '__MACOSX/._Magazine_Subscriptions.csv', 'Musical_Instruments.csv', '__MACOSX/._Musical_Instruments.csv', 'Gift_Cards.csv', '__MACOSX/._Gift_Cards.csv', 'Sports_and_Outdoors.csv', '__MACOSX/._Sports_and_Outdoors.csv', 'Toys_and_Games.csv', '__MACOSX/._Toys_and_Games.csv', 'Clothing_Shoes_and_Jewelry.csv', '__MACOSX/._Clothing_Shoes_and_Jewelry.csv', 'Prime_Pantry.csv', '__MACOSX/._Prime_Pantry.csv', 'Electronics.csv', '__MACOSX/._Electronics.csv', 'Digital_Music.csv', '__MACOSX/._Digital_Music.csv', 'Tools_and_Home_Improvement.csv', '__MACOSX/._Tools_and_Home_Improvement.csv', 'Luxury_Beauty.csv', '__MACOSX/._Luxury_Beauty.csv', 'CDs_and_Vinyl.csv', '__MACOSX/._CDs_and_Vinyl.csv', 'Home_and_Kitchen.csv', '__MACOSX/._Home_and_Kitchen.csv', 'Kindle_Store.csv', '__MACOSX/._Kindle_Store.csv', 'Industrial_and_Scientific.csv', '__MACOSX/._Industrial_and_Scientific.csv', 'Automotive.csv', '__MACOSX/._Automotive.csv', 'Movies_and_TV.csv', '__MACOSX/._Movies_and_TV.csv', 'Software.csv', '__MACOSX/._Software.csv', 'Pet_Supplies.csv', '__MACOSX/._Pet_Supplies.csv', 'Office_Products.csv', '__MACOSX/._Office_Products.csv', 'Appliances.csv', '__MACOSX/._Appliances.csv', 'Arts_Crafts_and_Sewing.csv', '__MACOSX/._Arts_Crafts_and_Sewing.csv', 'AMAZON_FASHION.csv', '__MACOSX/._AMAZON_FASHION.csv', 'Cell_Phones_and_Accessories.csv', '__MACOSX/._Cell_Phones_and_Accessories.csv']\n"
          ],
          "name": "stdout"
        }
      ]
    },
    {
      "cell_type": "markdown",
      "metadata": {
        "id": "8IUhr88THEcK"
      },
      "source": [
        "#Load Metadata CSV"
      ]
    },
    {
      "cell_type": "code",
      "metadata": {
        "id": "oqIcMNcKIc2Y"
      },
      "source": [
        "category_files = ['meta_AMAZON_FASHION.json.gz', 'meta_Appliances.json.gz', 'meta_All_Beauty.json.gz', 'meta_Arts_Crafts_and_Sewing.json.gz', 'meta_Automotive.json.gz', 'meta_CDs_and_Vinyl.json.gz', 'meta_Cell_Phones_and_Accessories.json.gz', 'meta_Clothing_Shoes_and_Jewelry.json.gz', 'meta_Digital_Music.json.gz', 'meta_Electronics.json.gz', 'meta_Gift_Cards.json.gz', 'meta_Grocery_and_Gourmet_Food.json.gz', 'meta_Home_and_Kitchen.json.gz', 'meta_Industrial_and_Scientific.json.gz', 'meta_Kindle_Store.json.gz', 'meta_Luxury_Beauty.json.gz', 'meta_Magazine_Subscriptions.json.gz', 'meta_Movies_and_TV.json.gz', 'meta_Musical_Instruments.json.gz', 'meta_Office_Products.json.gz', 'meta_Patio_Lawn_and_Garden.json.gz', 'meta_Pet_Supplies.json.gz', 'meta_Prime_Pantry.json.gz', 'meta_Software.json.gz', 'meta_Sports_and_Outdoors.json.gz', 'meta_Tools_and_Home_Improvement.json.gz', 'meta_Toys_and_Games.json.gz', 'meta_Video_Games.json.gz']\n",
        "df_metadata = pd.DataFrame();\n",
        "data = []\n",
        "file = category_files[0]\n",
        "with gzip.open(file) as f:\n",
        "    print(\"Opening file: \" + file)\n",
        "    for l in f:\n",
        "        data.append(json.loads(l.strip()))\n",
        "    print(\"Done with list.\")\n",
        "\n",
        "df_temp = pd.DataFrame.from_dict(data)\n",
        "print(\"Done with Dataframe.\")\n",
        "\n",
        "df_metadata = df_metadata.append(df_temp)\n",
        "\n",
        "print(len(df_metadata))"
      ],
      "execution_count": null,
      "outputs": []
    },
    {
      "cell_type": "markdown",
      "metadata": {
        "id": "pqoZKOM9HJPd"
      },
      "source": [
        "## Keep only needed columns"
      ]
    },
    {
      "cell_type": "code",
      "metadata": {
        "id": "-M5Np1SXIqkm"
      },
      "source": [
        "df_metadata = df_metadata[['asin', 'title', 'price']]"
      ],
      "execution_count": null,
      "outputs": []
    },
    {
      "cell_type": "markdown",
      "metadata": {
        "id": "mp2My7AdHOKn"
      },
      "source": [
        "#Merge Dataframes"
      ]
    },
    {
      "cell_type": "code",
      "metadata": {
        "id": "pvDB6SoFHZFB"
      },
      "source": [
        "df_categories.merge(df_metadata,how='left', left_on='asin', right_on='asin')\n",
        "df_categories.head()\n",
        "df_categories.tail()"
      ],
      "execution_count": null,
      "outputs": []
    },
    {
      "cell_type": "markdown",
      "metadata": {
        "id": "dLrgK13CJkKj"
      },
      "source": [
        "## Drop Duplicates"
      ]
    },
    {
      "cell_type": "code",
      "metadata": {
        "id": "wW4G5GCQJmBN"
      },
      "source": [
        "df_categories = df_categories.drop_duplicates()\n",
        "print(len(df_categories))"
      ],
      "execution_count": null,
      "outputs": []
    },
    {
      "cell_type": "markdown",
      "metadata": {
        "id": "C0MNQoKAHtLu"
      },
      "source": [
        "# Export Dataframe to CSV"
      ]
    },
    {
      "cell_type": "code",
      "metadata": {
        "id": "6eerA-ONHxEl"
      },
      "source": [
        "df_noDP.to_csv('./Exports/' + df['category'][0] + '.csv')\n",
        "print('Exported file: ' + df['category'][0])"
      ],
      "execution_count": null,
      "outputs": []
    },
    {
      "cell_type": "markdown",
      "metadata": {
        "id": "Dr4K3eOQH54h"
      },
      "source": [
        "#Create Final Dataset with merged Dataframe"
      ]
    },
    {
      "cell_type": "code",
      "metadata": {
        "id": "O2wRrGh8HsV2"
      },
      "source": [
        "all_files = ['AMAZON_FASHION.csv', 'Appliances.csv', 'All_Beauty.csv', 'Arts_Crafts_and_Sewing.csv', 'Automotive.csv', 'CDs_and_Vinyl.csv', 'Cell_Phones_and_Accessories.csv', 'Clothing_Shoes_and_Jewelry.csv', 'Digital_Music.csv', 'Electronics.csv', 'Gift_Cards.csv', 'Grocery_and_Gourmet_Food.csv', 'Home_and_Kitchen.csv', 'Industrial_and_Scientific.csv', 'Kindle_Store.csv', 'Luxury_Beauty.csv', 'Magazine_Subscriptions.csv', 'Movies_and_TV.csv', 'Musical_Instruments.csv', 'Office_Products.csv', 'Patio_Lawn_and_Garden.csv', 'Pet_Supplies.csv', 'Prime_Pantry.csv', 'Software.csv', 'Sports_and_Outdoors.csv', 'Tools_and_Home_Improvement.csv', 'Toys_and_Games.csv', 'Video_Games.csv']\n",
        "\n",
        "df = pd.DataFrame()\n",
        "\n",
        "for filename in all_files:\n",
        "    df_final = pd.read_csv('Exports/' + filename, engine='python', error_bad_lines=False)\n",
        "    df = df.append(df_final)\n",
        "\n",
        "df.head()"
      ],
      "execution_count": null,
      "outputs": []
    },
    {
      "cell_type": "markdown",
      "metadata": {
        "id": "DFo2_X0Pd9fn"
      },
      "source": [
        "# Export Final Dataset\n"
      ]
    },
    {
      "cell_type": "code",
      "metadata": {
        "id": "h3rF31Tsd_Nv"
      },
      "source": [
        "df.to_csv('./Exports/final_dataset_metadata.csv')\n",
        "print('Exported final dataset.')"
      ],
      "execution_count": null,
      "outputs": []
    }
  ]
}