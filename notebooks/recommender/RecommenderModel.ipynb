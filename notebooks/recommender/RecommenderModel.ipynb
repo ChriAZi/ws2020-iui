{
 "cells": [
  {
   "cell_type": "markdown",
   "metadata": {},
   "source": [
    "# Ask and Shine - Recommender System"
   ]
  },
  {
   "cell_type": "markdown",
   "metadata": {},
   "source": [
    "**The aim of our recommender system is to recommend a category that the person to be gifted most likely also likes based on the purchases other consumers have done previosly on amazon**\n",
    "\n",
    "For our recommender we used a **collaborative filtering** for **implicit data** based on the work of Hu et al.:\n",
    "\n",
    "**[Hu et al (2008), Collaborative Filtering for Implicit Feedback Datasets](http://yifanhu.net/PUB/cf.pdf)**\n",
    "\n",
    "\n",
    "The following Python implementation of the approach was used by Ben Frederickson:\n",
    "\n",
    "[Faster Implicit Matrix Factorization](http://www.benfrederickson.com/fast-implicit-matrix-factorization/)\n",
    "\n",
    "And the following implementation examples were used as guidance:\n",
    "\n",
    "* [ALS Implicit Collaborative Filtering](https://medium.com/radon-dev/als-implicit-collaborative-filtering-5ed653ba39fe)\n",
    "* [A Gentle Introduction to Recommender Systems with Implicit Feedback](https://jessesw.com/Rec-System/)\n",
    "* [Intro to Implicit Matrix Factorization: Classic ALS with Sketchfab Models](https://www.ethanrosenthal.com/2016/10/19/implicit-mf-part-1/)"
   ]
  },
  {
   "cell_type": "code",
   "execution_count": 8,
   "metadata": {},
   "outputs": [],
   "source": [
    "#imports \n",
    "import pandas as pd \n",
    "import numpy as np\n",
    "import sys\n",
    "import scipy.sparse as sparse\n",
    "from scipy.sparse.linalg import spsolve\n",
    "import random\n",
    "import implicit\n",
    "from sklearn.preprocessing import MinMaxScaler\n",
    "from scipy import stats\n",
    "from sklearn import metrics\n",
    "from itertools import combinations "
   ]
  },
  {
   "cell_type": "code",
   "execution_count": 9,
   "metadata": {},
   "outputs": [
    {
     "name": "stdout",
     "output_type": "stream",
     "text": [
      "Collecting package metadata (current_repodata.json): done\n",
      "Solving environment: done\n",
      "\n",
      "# All requested packages already installed.\n",
      "\n",
      "\n",
      "Note: you may need to restart the kernel to use updated packages.\n"
     ]
    }
   ],
   "source": [
    "conda install -c conda-forge implicit"
   ]
  },
  {
   "cell_type": "markdown",
   "metadata": {},
   "source": [
    "# Load and Preprocess Data"
   ]
  },
  {
   "cell_type": "code",
   "execution_count": 10,
   "metadata": {},
   "outputs": [
    {
     "data": {
      "text/html": [
       "<div>\n",
       "<style scoped>\n",
       "    .dataframe tbody tr th:only-of-type {\n",
       "        vertical-align: middle;\n",
       "    }\n",
       "\n",
       "    .dataframe tbody tr th {\n",
       "        vertical-align: top;\n",
       "    }\n",
       "\n",
       "    .dataframe thead th {\n",
       "        text-align: right;\n",
       "    }\n",
       "</style>\n",
       "<table border=\"1\" class=\"dataframe\">\n",
       "  <thead>\n",
       "    <tr style=\"text-align: right;\">\n",
       "      <th></th>\n",
       "      <th>Unnamed: 0</th>\n",
       "      <th>overall</th>\n",
       "      <th>reviewerID</th>\n",
       "      <th>asin</th>\n",
       "      <th>reviewText</th>\n",
       "      <th>summary</th>\n",
       "      <th>category</th>\n",
       "    </tr>\n",
       "  </thead>\n",
       "  <tbody>\n",
       "    <tr>\n",
       "      <th>0</th>\n",
       "      <td>0</td>\n",
       "      <td>4.0</td>\n",
       "      <td>A2C9XE9I8RSKNX</td>\n",
       "      <td>0887248845</td>\n",
       "      <td>Nice and snazzy to put on letters to a sponsor...</td>\n",
       "      <td>I'm pleased</td>\n",
       "      <td>Arts_Crafts_and_Sewing</td>\n",
       "    </tr>\n",
       "    <tr>\n",
       "      <th>1</th>\n",
       "      <td>1</td>\n",
       "      <td>5.0</td>\n",
       "      <td>A1WGU1NUVWJPR0</td>\n",
       "      <td>0988174979</td>\n",
       "      <td>This book has so many quilting possibilities! ...</td>\n",
       "      <td>LOVE IT!  Blocks are fun and easy to make!</td>\n",
       "      <td>Arts_Crafts_and_Sewing</td>\n",
       "    </tr>\n",
       "    <tr>\n",
       "      <th>2</th>\n",
       "      <td>2</td>\n",
       "      <td>5.0</td>\n",
       "      <td>A333SV82Y549LK</td>\n",
       "      <td>0988174979</td>\n",
       "      <td>What can I say, I LOVE this book of farm-relat...</td>\n",
       "      <td>Adorable and Easy to do Quilt Designs</td>\n",
       "      <td>Arts_Crafts_and_Sewing</td>\n",
       "    </tr>\n",
       "    <tr>\n",
       "      <th>3</th>\n",
       "      <td>3</td>\n",
       "      <td>5.0</td>\n",
       "      <td>A39EMFHHUTUX8M</td>\n",
       "      <td>0988174979</td>\n",
       "      <td>This is a great book and will keep a quilter q...</td>\n",
       "      <td>This is a great book and will keep a quilter q...</td>\n",
       "      <td>Arts_Crafts_and_Sewing</td>\n",
       "    </tr>\n",
       "    <tr>\n",
       "      <th>4</th>\n",
       "      <td>4</td>\n",
       "      <td>4.0</td>\n",
       "      <td>A27WH4VW6VS7GC</td>\n",
       "      <td>0988174979</td>\n",
       "      <td>Good</td>\n",
       "      <td>Four Stars</td>\n",
       "      <td>Arts_Crafts_and_Sewing</td>\n",
       "    </tr>\n",
       "  </tbody>\n",
       "</table>\n",
       "</div>"
      ],
      "text/plain": [
       "  Unnamed: 0 overall      reviewerID        asin  \\\n",
       "0          0     4.0  A2C9XE9I8RSKNX  0887248845   \n",
       "1          1     5.0  A1WGU1NUVWJPR0  0988174979   \n",
       "2          2     5.0  A333SV82Y549LK  0988174979   \n",
       "3          3     5.0  A39EMFHHUTUX8M  0988174979   \n",
       "4          4     4.0  A27WH4VW6VS7GC  0988174979   \n",
       "\n",
       "                                          reviewText  \\\n",
       "0  Nice and snazzy to put on letters to a sponsor...   \n",
       "1  This book has so many quilting possibilities! ...   \n",
       "2  What can I say, I LOVE this book of farm-relat...   \n",
       "3  This is a great book and will keep a quilter q...   \n",
       "4                                               Good   \n",
       "\n",
       "                                             summary                category  \n",
       "0                                        I'm pleased  Arts_Crafts_and_Sewing  \n",
       "1         LOVE IT!  Blocks are fun and easy to make!  Arts_Crafts_and_Sewing  \n",
       "2              Adorable and Easy to do Quilt Designs  Arts_Crafts_and_Sewing  \n",
       "3  This is a great book and will keep a quilter q...  Arts_Crafts_and_Sewing  \n",
       "4                                         Four Stars  Arts_Crafts_and_Sewing  "
      ]
     },
     "execution_count": 10,
     "metadata": {},
     "output_type": "execute_result"
    }
   ],
   "source": [
    "#load csv file\n",
    "df_amazon_reviews = pd.read_csv('final_dataset.csv', dtype=str)\n",
    "df_amazon_reviews.head()"
   ]
  },
  {
   "cell_type": "code",
   "execution_count": 11,
   "metadata": {},
   "outputs": [
    {
     "name": "stdout",
     "output_type": "stream",
     "text": [
      "Restructered Data Set\n",
      "                  category              reviewer  purchases\n",
      "0  Arts_Crafts_and_Sewing  A0116143FGG14B3OZ7UG          4\n",
      "1  Arts_Crafts_and_Sewing  A0228801ER3IBSLNOT5W          3\n",
      "2  Arts_Crafts_and_Sewing  A0272662PGC9D57A0G5C          7\n",
      "3  Arts_Crafts_and_Sewing  A03033388K5LWDWFS9R9          6\n",
      "4  Arts_Crafts_and_Sewing  A0323662LGDA74F87HNI          9\n",
      "Length of Data Set 2251715\n",
      "Max Value of Purchases 1478\n"
     ]
    },
    {
     "data": {
      "text/html": [
       "<div>\n",
       "<style scoped>\n",
       "    .dataframe tbody tr th:only-of-type {\n",
       "        vertical-align: middle;\n",
       "    }\n",
       "\n",
       "    .dataframe tbody tr th {\n",
       "        vertical-align: top;\n",
       "    }\n",
       "\n",
       "    .dataframe thead th {\n",
       "        text-align: right;\n",
       "    }\n",
       "</style>\n",
       "<table border=\"1\" class=\"dataframe\">\n",
       "  <thead>\n",
       "    <tr style=\"text-align: right;\">\n",
       "      <th></th>\n",
       "      <th>category</th>\n",
       "      <th>reviewer</th>\n",
       "      <th>purchases</th>\n",
       "    </tr>\n",
       "  </thead>\n",
       "  <tbody>\n",
       "    <tr>\n",
       "      <th>0</th>\n",
       "      <td>Arts_Crafts_and_Sewing</td>\n",
       "      <td>A0116143FGG14B3OZ7UG</td>\n",
       "      <td>4</td>\n",
       "    </tr>\n",
       "    <tr>\n",
       "      <th>1</th>\n",
       "      <td>Arts_Crafts_and_Sewing</td>\n",
       "      <td>A0228801ER3IBSLNOT5W</td>\n",
       "      <td>3</td>\n",
       "    </tr>\n",
       "    <tr>\n",
       "      <th>2</th>\n",
       "      <td>Arts_Crafts_and_Sewing</td>\n",
       "      <td>A0272662PGC9D57A0G5C</td>\n",
       "      <td>7</td>\n",
       "    </tr>\n",
       "    <tr>\n",
       "      <th>3</th>\n",
       "      <td>Arts_Crafts_and_Sewing</td>\n",
       "      <td>A03033388K5LWDWFS9R9</td>\n",
       "      <td>6</td>\n",
       "    </tr>\n",
       "    <tr>\n",
       "      <th>4</th>\n",
       "      <td>Arts_Crafts_and_Sewing</td>\n",
       "      <td>A0323662LGDA74F87HNI</td>\n",
       "      <td>9</td>\n",
       "    </tr>\n",
       "  </tbody>\n",
       "</table>\n",
       "</div>"
      ],
      "text/plain": [
       "                 category              reviewer  purchases\n",
       "0  Arts_Crafts_and_Sewing  A0116143FGG14B3OZ7UG          4\n",
       "1  Arts_Crafts_and_Sewing  A0228801ER3IBSLNOT5W          3\n",
       "2  Arts_Crafts_and_Sewing  A0272662PGC9D57A0G5C          7\n",
       "3  Arts_Crafts_and_Sewing  A03033388K5LWDWFS9R9          6\n",
       "4  Arts_Crafts_and_Sewing  A0323662LGDA74F87HNI          9"
      ]
     },
     "execution_count": 11,
     "metadata": {},
     "output_type": "execute_result"
    }
   ],
   "source": [
    "#rename reviewerID to reviewer\n",
    "df_amazon_reviews = df_amazon_reviews.rename({'reviewerID': 'reviewer'}, axis=1) \n",
    "\n",
    "#create list with customers and count the products they have bought for each category = purchases\n",
    "df_grouped = df_amazon_reviews.groupby(['category','reviewer']).size().reset_index(name=\"purchases\")\n",
    "print(\"Restructered Data Set\\n\", df_grouped.head())\n",
    "print(\"Length of Data Set\", len(df_grouped))\n",
    "print(\"Max Value of Purchases\", df_grouped['purchases'].max())\n",
    "\n",
    "df_grouped.head()"
   ]
  },
  {
   "cell_type": "code",
   "execution_count": 12,
   "metadata": {},
   "outputs": [
    {
     "name": "stdout",
     "output_type": "stream",
     "text": [
      "Restructered Data Set\n",
      "                  category              reviewer  purchases\n",
      "0  Arts_Crafts_and_Sewing  A0116143FGG14B3OZ7UG          4\n",
      "1  Arts_Crafts_and_Sewing  A0228801ER3IBSLNOT5W          3\n",
      "2  Arts_Crafts_and_Sewing  A0272662PGC9D57A0G5C          7\n",
      "3  Arts_Crafts_and_Sewing  A03033388K5LWDWFS9R9          6\n",
      "4  Arts_Crafts_and_Sewing  A0323662LGDA74F87HNI          9\n",
      "Length of Data Set 1435381\n",
      "Max Value of Purchases 35\n"
     ]
    }
   ],
   "source": [
    "#Filter outliers\n",
    "q_low = df_grouped[\"purchases\"].quantile(0.001)\n",
    "q_hi  = df_grouped[\"purchases\"].quantile(0.999)\n",
    "\n",
    "df_grouped = df_grouped[(df_grouped[\"purchases\"] < q_hi) & (df_grouped[\"purchases\"] > q_low)]\n",
    "print(\"Restructered Data Set\\n\", df_grouped.head())\n",
    "print(\"Length of Data Set\", len(df_grouped))\n",
    "print(\"Max Value of Purchases\", df_grouped['purchases'].max())"
   ]
  },
  {
   "cell_type": "code",
   "execution_count": 13,
   "metadata": {},
   "outputs": [
    {
     "name": "stdout",
     "output_type": "stream",
     "text": [
      "Number of reviewer: 970929\n",
      "Number of categories: 19\n",
      "Sparsity: 7.781%\n"
     ]
    }
   ],
   "source": [
    "#Get Sparsity\n",
    "n_reviewer = df_grouped.reviewer.unique().shape[0]\n",
    "n_categories = df_grouped.category.unique().shape[0]\n",
    "\n",
    "print('Number of reviewer: {}'.format(n_reviewer))\n",
    "print('Number of categories: {}'.format(n_categories))\n",
    "print('Sparsity: {:4.3f}%'.format(float(df_grouped.shape[0]) / float(n_reviewer*n_categories) * 100))"
   ]
  },
  {
   "cell_type": "code",
   "execution_count": null,
   "metadata": {},
   "outputs": [],
   "source": [
    "# Create a numeric reviewer_id and category_id column\n",
    "df_grouped['reviewer'] = df_grouped['reviewer'].astype(\"category\")\n",
    "df_grouped['category'] = df_grouped['category'].astype(\"category\")\n",
    "df_grouped['reviewer_id'] = df_grouped['reviewer'].cat.codes\n",
    "df_grouped['category_id'] = df_grouped['category'].cat.codes\n",
    "\n",
    "# The implicit library expects data as a item-user matrix two matricies are created, \n",
    "#one for fitting the model (item-user) \n",
    "# and one for recommendations (user-item)\n",
    "sparse_item_user = sparse.csr_matrix((df_grouped['purchases'].astype(float), (df_grouped['category_id'].astype(np.int32), df_grouped['reviewer_id'].astype(np.int32))))\n",
    "sparse_user_item = sparse.csr_matrix((df_grouped['purchases'].astype(float), (df_grouped['reviewer_id'].astype(np.int32), df_grouped['category_id'].astype(np.int32))))\n",
    "\n",
    "# Initialize the als model and fit it using the sparse item-user matrix\n",
    "model = implicit.als.AlternatingLeastSquares(factors=32, regularization=0.1, iterations=20)\n",
    "\n",
    "# Calculate the confidence by multiplying it by our alpha value.\n",
    "alpha_val = 15\n",
    "data_conf = (sparse_item_user * alpha_val).astype('double')\n",
    "\n",
    "#Fit the model\n",
    "model.fit(data_conf)"
   ]
  },
  {
   "cell_type": "markdown",
   "metadata": {},
   "source": [
    "# Evaluate the Model "
   ]
  },
  {
   "cell_type": "code",
   "execution_count": null,
   "metadata": {},
   "outputs": [],
   "source": [
    "def make_train(ratings, pct_test = 0.2):\n",
    "    '''\n",
    "    This function will take in the original user-item matrix and \"mask\" a percentage of the original ratings where a\n",
    "    user-item interaction has taken place for use as a test set. The test set will contain all of the original ratings, \n",
    "    while the training set replaces the specified percentage of them with a zero in the original ratings matrix. \n",
    "    \n",
    "    parameters: \n",
    "    \n",
    "    ratings - the original ratings matrix from which you want to generate a train/test set. Test is just a complete\n",
    "    copy of the original set. This is in the form of a sparse csr_matrix. \n",
    "    \n",
    "    pct_test - The percentage of user-item interactions where an interaction took place that you want to mask in the \n",
    "    training set for later comparison to the test set, which contains all of the original ratings. \n",
    "    \n",
    "    returns:\n",
    "    \n",
    "    training_set - The altered version of the original data with a certain percentage of the user-item pairs \n",
    "    that originally had interaction set back to zero.\n",
    "    \n",
    "    test_set - A copy of the original ratings matrix, unaltered, so it can be used to see how the rank order \n",
    "    compares with the actual interactions.\n",
    "    \n",
    "    user_inds - From the randomly selected user-item indices, which user rows were altered in the training data.\n",
    "    This will be necessary later when evaluating the performance via AUC.\n",
    "    '''\n",
    "    test_set = ratings.copy() # Make a copy of the original set to be the test set. \n",
    "    test_set[test_set != 0] = 1 # Store the test set as a binary preference matrix\n",
    "    training_set = ratings.copy() # Make a copy of the original data we can alter as our training set. \n",
    "    nonzero_inds = training_set.nonzero() # Find the indices in the ratings data where an interaction exists\n",
    "    nonzero_pairs = list(zip(nonzero_inds[0], nonzero_inds[1])) # Zip these pairs together of user,item index into list\n",
    "    random.seed(0) # Set the random seed to zero for reproducibility\n",
    "    num_samples = int(np.ceil(pct_test*len(nonzero_pairs))) # Round the number of samples needed to the nearest integer\n",
    "    samples = random.sample(nonzero_pairs, num_samples) # Sample a random number of user-item pairs without replacement\n",
    "    user_inds = [index[0] for index in samples] # Get the user row indices\n",
    "    item_inds = [index[1] for index in samples] # Get the item column indices\n",
    "    training_set[user_inds, item_inds] = 0 # Assign all of the randomly chosen user-item pairs to zero\n",
    "    training_set.eliminate_zeros() # Get rid of zeros in sparse array storage after update to save space\n",
    "    return training_set, test_set, list(set(user_inds)) # Output the unique list of user rows that were altered  "
   ]
  },
  {
   "cell_type": "code",
   "execution_count": null,
   "metadata": {},
   "outputs": [],
   "source": [
    "product_train, product_test, product_users_altered = make_train(sparse_user_item, pct_test = 0.2)"
   ]
  },
  {
   "cell_type": "code",
   "execution_count": null,
   "metadata": {},
   "outputs": [],
   "source": [
    "def auc_score(predictions, test):\n",
    "    '''\n",
    "    This simple function will output the area under the curve using sklearn's metrics. \n",
    "    \n",
    "    parameters:\n",
    "    \n",
    "    - predictions: your prediction output\n",
    "    \n",
    "    - test: the actual target result you are comparing to\n",
    "    \n",
    "    returns:\n",
    "    \n",
    "    - AUC (area under the Receiver Operating Characterisic curve)\n",
    "    '''\n",
    "    fpr, tpr, thresholds = metrics.roc_curve(test, predictions)\n",
    "    return metrics.auc(fpr, tpr)  \n",
    "\n",
    "def calc_mean_auc(training_set, altered_users, predictions, test_set):\n",
    "    '''\n",
    "    This function will calculate the mean AUC by user for any user that had their user-item matrix altered. \n",
    "    \n",
    "    parameters:\n",
    "    \n",
    "    training_set - The training set resulting from make_train, where a certain percentage of the original\n",
    "    user/item interactions are reset to zero to hide them from the model \n",
    "    \n",
    "    predictions - The matrix of your predicted ratings for each user/item pair as output from the implicit MF.\n",
    "    These should be stored in a list, with user vectors as item zero and item vectors as item one. \n",
    "    \n",
    "    altered_users - The indices of the users where at least one user/item pair was altered from make_train function\n",
    "    \n",
    "    test_set - The test set constucted earlier from make_train function\n",
    "    \n",
    "    \n",
    "    \n",
    "    returns:\n",
    "    \n",
    "    The mean AUC (area under the Receiver Operator Characteristic curve) of the test set only on user-item interactions\n",
    "    there were originally zero to test ranking ability in addition to the most popular items as a benchmark.\n",
    "    '''\n",
    "    \n",
    "    \n",
    "    store_auc = [] # An empty list to store the AUC for each user that had an item removed from the training set\n",
    "    popularity_auc = [] # To store popular AUC scores\n",
    "    pop_items = np.array(test_set.sum(axis = 0)).reshape(-1) # Get sum of item iteractions to find most popular\n",
    "    item_vecs = predictions[1]\n",
    "    for user in altered_users: # Iterate through each user that had an item altered\n",
    "        training_row = training_set[user,:].toarray().reshape(-1) # Get the training set row\n",
    "        zero_inds = np.where(training_row == 0) # Find where the interaction had not yet occurred\n",
    "        # Get the predicted values based on our user/item vectors\n",
    "        user_vec = predictions[0][user,:]\n",
    "        pred = user_vec.dot(item_vecs).toarray()[0,zero_inds].reshape(-1)\n",
    "        # Get only the items that were originally zero\n",
    "        # Select all ratings from the MF prediction for this user that originally had no iteraction\n",
    "        actual = test_set[user,:].toarray()[0,zero_inds].reshape(-1) \n",
    "        # Select the binarized yes/no interaction pairs from the original full data\n",
    "        # that align with the same pairs in training \n",
    "        pop = pop_items[zero_inds] # Get the item popularity for our chosen items\n",
    "        store_auc.append(auc_score(pred, actual)) # Calculate AUC for the given user and store\n",
    "        popularity_auc.append(auc_score(pop, actual)) # Calculate AUC using most popular and score\n",
    "    # End users iteration\n",
    "    \n",
    "    return float('%.3f'%np.mean(store_auc)), float('%.3f'%np.mean(popularity_auc))  \n",
    "   # Return the mean AUC rounded to three decimal places for both test and popularity benchmark"
   ]
  },
  {
   "cell_type": "code",
   "execution_count": null,
   "metadata": {},
   "outputs": [],
   "source": [
    "#first create test data\n",
    "calc_mean_auc(product_train, product_users_altered, \n",
    "              [sparse.csr_matrix(model.user_factors), sparse.csr_matrix(model.item_factors.T)], product_test)"
   ]
  },
  {
   "cell_type": "code",
   "execution_count": null,
   "metadata": {},
   "outputs": [],
   "source": [
    "#Just for trying out the recommender\n",
    "# Find the 3 most similar to a specific category\n",
    "item_id = 13\n",
    "n_similar = 3\n",
    "\n",
    "# Get the user and item vectors from our trained model\n",
    "user_vecs = model.user_factors\n",
    "item_vecs = model.item_factors\n",
    "\n",
    "# Calculate the vector norms\n",
    "item_norms = np.sqrt((item_vecs * item_vecs).sum(axis=1))\n",
    "\n",
    "# Calculate the similarity score, grab the top N items and\n",
    "# create a list of item-score tuples of most similar artists\n",
    "scores = item_vecs.dot(item_vecs[item_id]) / item_norms\n",
    "top_idx = np.argpartition(scores, -n_similar)[-n_similar:]\n",
    "similar = sorted(zip(top_idx, scores[top_idx] / item_norms[item_id]), key=lambda x: -x[1])\n",
    "\n",
    "# Print the names of our most similar artists\n",
    "for item in similar:\n",
    "    idx, score = item\n",
    "    print (df_grouped.category.loc[df_grouped.category_id == idx].iloc[0])"
   ]
  },
  {
   "cell_type": "markdown",
   "metadata": {},
   "source": [
    "# Built the LookUp Table "
   ]
  },
  {
   "cell_type": "code",
   "execution_count": 14,
   "metadata": {},
   "outputs": [],
   "source": [
    "categegory_list = df_grouped.category.unique()\n",
    "combination_list = list(combinations(categegory_list, 2))"
   ]
  },
  {
   "cell_type": "code",
   "execution_count": 15,
   "metadata": {},
   "outputs": [
    {
     "name": "stdout",
     "output_type": "stream",
     "text": [
      "[('Arts_Crafts_and_Sewing', 'Automotive'), ('Arts_Crafts_and_Sewing', 'CDs_and_Vinyl'), ('Arts_Crafts_and_Sewing', 'Cell_Phones_and_Accessories'), ('Arts_Crafts_and_Sewing', 'Clothing_Shoes_and_Jewelry'), ('Arts_Crafts_and_Sewing', 'Electronics'), ('Arts_Crafts_and_Sewing', 'Grocery_and_Gourmet_Food'), ('Arts_Crafts_and_Sewing', 'Home_and_Kitchen'), ('Arts_Crafts_and_Sewing', 'Industrial_and_Scientific'), ('Arts_Crafts_and_Sewing', 'Kindle_Store'), ('Arts_Crafts_and_Sewing', 'Luxury_Beauty'), ('Arts_Crafts_and_Sewing', 'Movies_and_TV'), ('Arts_Crafts_and_Sewing', 'Musical_Instruments'), ('Arts_Crafts_and_Sewing', 'Patio_Lawn_and_Garden'), ('Arts_Crafts_and_Sewing', 'Prime_Pantry'), ('Arts_Crafts_and_Sewing', 'Sports_and_Outdoors'), ('Arts_Crafts_and_Sewing', 'Tools_and_Home_Improvement'), ('Arts_Crafts_and_Sewing', 'Toys_and_Games'), ('Arts_Crafts_and_Sewing', 'Video_Games'), ('Automotive', 'CDs_and_Vinyl'), ('Automotive', 'Cell_Phones_and_Accessories'), ('Automotive', 'Clothing_Shoes_and_Jewelry'), ('Automotive', 'Electronics'), ('Automotive', 'Grocery_and_Gourmet_Food'), ('Automotive', 'Home_and_Kitchen'), ('Automotive', 'Industrial_and_Scientific'), ('Automotive', 'Kindle_Store'), ('Automotive', 'Luxury_Beauty'), ('Automotive', 'Movies_and_TV'), ('Automotive', 'Musical_Instruments'), ('Automotive', 'Patio_Lawn_and_Garden'), ('Automotive', 'Prime_Pantry'), ('Automotive', 'Sports_and_Outdoors'), ('Automotive', 'Tools_and_Home_Improvement'), ('Automotive', 'Toys_and_Games'), ('Automotive', 'Video_Games'), ('CDs_and_Vinyl', 'Cell_Phones_and_Accessories'), ('CDs_and_Vinyl', 'Clothing_Shoes_and_Jewelry'), ('CDs_and_Vinyl', 'Electronics'), ('CDs_and_Vinyl', 'Grocery_and_Gourmet_Food'), ('CDs_and_Vinyl', 'Home_and_Kitchen'), ('CDs_and_Vinyl', 'Industrial_and_Scientific'), ('CDs_and_Vinyl', 'Kindle_Store'), ('CDs_and_Vinyl', 'Luxury_Beauty'), ('CDs_and_Vinyl', 'Movies_and_TV'), ('CDs_and_Vinyl', 'Musical_Instruments'), ('CDs_and_Vinyl', 'Patio_Lawn_and_Garden'), ('CDs_and_Vinyl', 'Prime_Pantry'), ('CDs_and_Vinyl', 'Sports_and_Outdoors'), ('CDs_and_Vinyl', 'Tools_and_Home_Improvement'), ('CDs_and_Vinyl', 'Toys_and_Games'), ('CDs_and_Vinyl', 'Video_Games'), ('Cell_Phones_and_Accessories', 'Clothing_Shoes_and_Jewelry'), ('Cell_Phones_and_Accessories', 'Electronics'), ('Cell_Phones_and_Accessories', 'Grocery_and_Gourmet_Food'), ('Cell_Phones_and_Accessories', 'Home_and_Kitchen'), ('Cell_Phones_and_Accessories', 'Industrial_and_Scientific'), ('Cell_Phones_and_Accessories', 'Kindle_Store'), ('Cell_Phones_and_Accessories', 'Luxury_Beauty'), ('Cell_Phones_and_Accessories', 'Movies_and_TV'), ('Cell_Phones_and_Accessories', 'Musical_Instruments'), ('Cell_Phones_and_Accessories', 'Patio_Lawn_and_Garden'), ('Cell_Phones_and_Accessories', 'Prime_Pantry'), ('Cell_Phones_and_Accessories', 'Sports_and_Outdoors'), ('Cell_Phones_and_Accessories', 'Tools_and_Home_Improvement'), ('Cell_Phones_and_Accessories', 'Toys_and_Games'), ('Cell_Phones_and_Accessories', 'Video_Games'), ('Clothing_Shoes_and_Jewelry', 'Electronics'), ('Clothing_Shoes_and_Jewelry', 'Grocery_and_Gourmet_Food'), ('Clothing_Shoes_and_Jewelry', 'Home_and_Kitchen'), ('Clothing_Shoes_and_Jewelry', 'Industrial_and_Scientific'), ('Clothing_Shoes_and_Jewelry', 'Kindle_Store'), ('Clothing_Shoes_and_Jewelry', 'Luxury_Beauty'), ('Clothing_Shoes_and_Jewelry', 'Movies_and_TV'), ('Clothing_Shoes_and_Jewelry', 'Musical_Instruments'), ('Clothing_Shoes_and_Jewelry', 'Patio_Lawn_and_Garden'), ('Clothing_Shoes_and_Jewelry', 'Prime_Pantry'), ('Clothing_Shoes_and_Jewelry', 'Sports_and_Outdoors'), ('Clothing_Shoes_and_Jewelry', 'Tools_and_Home_Improvement'), ('Clothing_Shoes_and_Jewelry', 'Toys_and_Games'), ('Clothing_Shoes_and_Jewelry', 'Video_Games'), ('Electronics', 'Grocery_and_Gourmet_Food'), ('Electronics', 'Home_and_Kitchen'), ('Electronics', 'Industrial_and_Scientific'), ('Electronics', 'Kindle_Store'), ('Electronics', 'Luxury_Beauty'), ('Electronics', 'Movies_and_TV'), ('Electronics', 'Musical_Instruments'), ('Electronics', 'Patio_Lawn_and_Garden'), ('Electronics', 'Prime_Pantry'), ('Electronics', 'Sports_and_Outdoors'), ('Electronics', 'Tools_and_Home_Improvement'), ('Electronics', 'Toys_and_Games'), ('Electronics', 'Video_Games'), ('Grocery_and_Gourmet_Food', 'Home_and_Kitchen'), ('Grocery_and_Gourmet_Food', 'Industrial_and_Scientific'), ('Grocery_and_Gourmet_Food', 'Kindle_Store'), ('Grocery_and_Gourmet_Food', 'Luxury_Beauty'), ('Grocery_and_Gourmet_Food', 'Movies_and_TV'), ('Grocery_and_Gourmet_Food', 'Musical_Instruments'), ('Grocery_and_Gourmet_Food', 'Patio_Lawn_and_Garden'), ('Grocery_and_Gourmet_Food', 'Prime_Pantry'), ('Grocery_and_Gourmet_Food', 'Sports_and_Outdoors'), ('Grocery_and_Gourmet_Food', 'Tools_and_Home_Improvement'), ('Grocery_and_Gourmet_Food', 'Toys_and_Games'), ('Grocery_and_Gourmet_Food', 'Video_Games'), ('Home_and_Kitchen', 'Industrial_and_Scientific'), ('Home_and_Kitchen', 'Kindle_Store'), ('Home_and_Kitchen', 'Luxury_Beauty'), ('Home_and_Kitchen', 'Movies_and_TV'), ('Home_and_Kitchen', 'Musical_Instruments'), ('Home_and_Kitchen', 'Patio_Lawn_and_Garden'), ('Home_and_Kitchen', 'Prime_Pantry'), ('Home_and_Kitchen', 'Sports_and_Outdoors'), ('Home_and_Kitchen', 'Tools_and_Home_Improvement'), ('Home_and_Kitchen', 'Toys_and_Games'), ('Home_and_Kitchen', 'Video_Games'), ('Industrial_and_Scientific', 'Kindle_Store'), ('Industrial_and_Scientific', 'Luxury_Beauty'), ('Industrial_and_Scientific', 'Movies_and_TV'), ('Industrial_and_Scientific', 'Musical_Instruments'), ('Industrial_and_Scientific', 'Patio_Lawn_and_Garden'), ('Industrial_and_Scientific', 'Prime_Pantry'), ('Industrial_and_Scientific', 'Sports_and_Outdoors'), ('Industrial_and_Scientific', 'Tools_and_Home_Improvement'), ('Industrial_and_Scientific', 'Toys_and_Games'), ('Industrial_and_Scientific', 'Video_Games'), ('Kindle_Store', 'Luxury_Beauty'), ('Kindle_Store', 'Movies_and_TV'), ('Kindle_Store', 'Musical_Instruments'), ('Kindle_Store', 'Patio_Lawn_and_Garden'), ('Kindle_Store', 'Prime_Pantry'), ('Kindle_Store', 'Sports_and_Outdoors'), ('Kindle_Store', 'Tools_and_Home_Improvement'), ('Kindle_Store', 'Toys_and_Games'), ('Kindle_Store', 'Video_Games'), ('Luxury_Beauty', 'Movies_and_TV'), ('Luxury_Beauty', 'Musical_Instruments'), ('Luxury_Beauty', 'Patio_Lawn_and_Garden'), ('Luxury_Beauty', 'Prime_Pantry'), ('Luxury_Beauty', 'Sports_and_Outdoors'), ('Luxury_Beauty', 'Tools_and_Home_Improvement'), ('Luxury_Beauty', 'Toys_and_Games'), ('Luxury_Beauty', 'Video_Games'), ('Movies_and_TV', 'Musical_Instruments'), ('Movies_and_TV', 'Patio_Lawn_and_Garden'), ('Movies_and_TV', 'Prime_Pantry'), ('Movies_and_TV', 'Sports_and_Outdoors'), ('Movies_and_TV', 'Tools_and_Home_Improvement'), ('Movies_and_TV', 'Toys_and_Games'), ('Movies_and_TV', 'Video_Games'), ('Musical_Instruments', 'Patio_Lawn_and_Garden'), ('Musical_Instruments', 'Prime_Pantry'), ('Musical_Instruments', 'Sports_and_Outdoors'), ('Musical_Instruments', 'Tools_and_Home_Improvement'), ('Musical_Instruments', 'Toys_and_Games'), ('Musical_Instruments', 'Video_Games'), ('Patio_Lawn_and_Garden', 'Prime_Pantry'), ('Patio_Lawn_and_Garden', 'Sports_and_Outdoors'), ('Patio_Lawn_and_Garden', 'Tools_and_Home_Improvement'), ('Patio_Lawn_and_Garden', 'Toys_and_Games'), ('Patio_Lawn_and_Garden', 'Video_Games'), ('Prime_Pantry', 'Sports_and_Outdoors'), ('Prime_Pantry', 'Tools_and_Home_Improvement'), ('Prime_Pantry', 'Toys_and_Games'), ('Prime_Pantry', 'Video_Games'), ('Sports_and_Outdoors', 'Tools_and_Home_Improvement'), ('Sports_and_Outdoors', 'Toys_and_Games'), ('Sports_and_Outdoors', 'Video_Games'), ('Tools_and_Home_Improvement', 'Toys_and_Games'), ('Tools_and_Home_Improvement', 'Video_Games'), ('Toys_and_Games', 'Video_Games')]\n"
     ]
    }
   ],
   "source": [
    "print(combination_list)"
   ]
  },
  {
   "cell_type": "code",
   "execution_count": 16,
   "metadata": {},
   "outputs": [],
   "source": [
    "df_grouped_added = df_grouped;"
   ]
  },
  {
   "cell_type": "code",
   "execution_count": 17,
   "metadata": {},
   "outputs": [],
   "source": [
    "def getCatById(id):\n",
    "    return df_grouped_added.category.loc[df_grouped_added.category_id == id].iloc[0]\n",
    "def getUserById(id):\n",
    "    return df_grouped_added.reviewer.loc[df_grouped_added.reviewer_id == id].iloc[0]\n",
    "def getIdByCat(cat):\n",
    "    return df_grouped_added.category_id.loc[df_grouped_added.category == cat].iloc[0]\n",
    "def getIdByUser(reviewer):\n",
    "    return df_grouped_added.reviewer_id.loc[df_grouped_added.reviewer == reviewer].iloc[0]"
   ]
  },
  {
   "cell_type": "code",
   "execution_count": 18,
   "metadata": {},
   "outputs": [
    {
     "name": "stdout",
     "output_type": "stream",
     "text": [
      "Number of Combinations  171\n"
     ]
    },
    {
     "name": "stderr",
     "output_type": "stream",
     "text": [
      "WARNING:root:Intel MKL BLAS detected. Its highly recommend to set the environment variable 'export MKL_NUM_THREADS=1' to disable its internal multithreading\n"
     ]
    },
    {
     "data": {
      "application/vnd.jupyter.widget-view+json": {
       "model_id": "8187a8c8181b4b9bbeab835815bbd62a",
       "version_major": 2,
       "version_minor": 0
      },
      "text/plain": [
       "HBox(children=(FloatProgress(value=0.0, max=20.0), HTML(value='')))"
      ]
     },
     "metadata": {},
     "output_type": "display_data"
    },
    {
     "name": "stdout",
     "output_type": "stream",
     "text": [
      "\n",
      "For the categories: Arts_Crafts_and_Sewing Automotive\n",
      "This category is recommended:  Grocery_and_Gourmet_Food\n"
     ]
    },
    {
     "data": {
      "application/vnd.jupyter.widget-view+json": {
       "model_id": "c34ae5646dc54d3bb48a5d0709a0b168",
       "version_major": 2,
       "version_minor": 0
      },
      "text/plain": [
       "HBox(children=(FloatProgress(value=0.0, max=20.0), HTML(value='')))"
      ]
     },
     "metadata": {},
     "output_type": "display_data"
    },
    {
     "name": "stdout",
     "output_type": "stream",
     "text": [
      "\n",
      "For the categories: Arts_Crafts_and_Sewing CDs_and_Vinyl\n",
      "This category is recommended:  Automotive\n"
     ]
    },
    {
     "data": {
      "application/vnd.jupyter.widget-view+json": {
       "model_id": "52bc6f9486eb4defa37388da20018fdf",
       "version_major": 2,
       "version_minor": 0
      },
      "text/plain": [
       "HBox(children=(FloatProgress(value=0.0, max=20.0), HTML(value='')))"
      ]
     },
     "metadata": {},
     "output_type": "display_data"
    },
    {
     "name": "stdout",
     "output_type": "stream",
     "text": [
      "\n",
      "For the categories: Arts_Crafts_and_Sewing Cell_Phones_and_Accessories\n",
      "This category is recommended:  Kindle_Store\n"
     ]
    },
    {
     "data": {
      "application/vnd.jupyter.widget-view+json": {
       "model_id": "369dbabfd2e64a26a82609c3e38d6bd6",
       "version_major": 2,
       "version_minor": 0
      },
      "text/plain": [
       "HBox(children=(FloatProgress(value=0.0, max=20.0), HTML(value='')))"
      ]
     },
     "metadata": {},
     "output_type": "display_data"
    },
    {
     "name": "stdout",
     "output_type": "stream",
     "text": [
      "\n",
      "For the categories: Arts_Crafts_and_Sewing Clothing_Shoes_and_Jewelry\n",
      "This category is recommended:  Automotive\n"
     ]
    },
    {
     "data": {
      "application/vnd.jupyter.widget-view+json": {
       "model_id": "2c4182387fdc408cb4ea00173e24e519",
       "version_major": 2,
       "version_minor": 0
      },
      "text/plain": [
       "HBox(children=(FloatProgress(value=0.0, max=20.0), HTML(value='')))"
      ]
     },
     "metadata": {},
     "output_type": "display_data"
    },
    {
     "name": "stdout",
     "output_type": "stream",
     "text": [
      "\n",
      "For the categories: Arts_Crafts_and_Sewing Electronics\n",
      "This category is recommended:  Luxury_Beauty\n"
     ]
    },
    {
     "data": {
      "application/vnd.jupyter.widget-view+json": {
       "model_id": "13708c653fb64f2e981208c705c7b4c7",
       "version_major": 2,
       "version_minor": 0
      },
      "text/plain": [
       "HBox(children=(FloatProgress(value=0.0, max=20.0), HTML(value='')))"
      ]
     },
     "metadata": {},
     "output_type": "display_data"
    },
    {
     "name": "stdout",
     "output_type": "stream",
     "text": [
      "\n",
      "For the categories: Arts_Crafts_and_Sewing Grocery_and_Gourmet_Food\n",
      "This category is recommended:  Automotive\n"
     ]
    },
    {
     "data": {
      "application/vnd.jupyter.widget-view+json": {
       "model_id": "71cfbfe3c17944e2befa63ce65f030b6",
       "version_major": 2,
       "version_minor": 0
      },
      "text/plain": [
       "HBox(children=(FloatProgress(value=0.0, max=20.0), HTML(value='')))"
      ]
     },
     "metadata": {},
     "output_type": "display_data"
    },
    {
     "name": "stdout",
     "output_type": "stream",
     "text": [
      "\n",
      "For the categories: Arts_Crafts_and_Sewing Home_and_Kitchen\n",
      "This category is recommended:  Automotive\n"
     ]
    },
    {
     "data": {
      "application/vnd.jupyter.widget-view+json": {
       "model_id": "36359dadc8b54ab0a5aed0986737dd98",
       "version_major": 2,
       "version_minor": 0
      },
      "text/plain": [
       "HBox(children=(FloatProgress(value=0.0, max=20.0), HTML(value='')))"
      ]
     },
     "metadata": {},
     "output_type": "display_data"
    },
    {
     "name": "stdout",
     "output_type": "stream",
     "text": [
      "\n",
      "For the categories: Arts_Crafts_and_Sewing Industrial_and_Scientific\n",
      "This category is recommended:  Luxury_Beauty\n"
     ]
    },
    {
     "data": {
      "application/vnd.jupyter.widget-view+json": {
       "model_id": "1d62f26f6bd74381a3be5a88e5399ed4",
       "version_major": 2,
       "version_minor": 0
      },
      "text/plain": [
       "HBox(children=(FloatProgress(value=0.0, max=20.0), HTML(value='')))"
      ]
     },
     "metadata": {},
     "output_type": "display_data"
    },
    {
     "name": "stdout",
     "output_type": "stream",
     "text": [
      "\n",
      "For the categories: Arts_Crafts_and_Sewing Kindle_Store\n",
      "This category is recommended:  Automotive\n"
     ]
    },
    {
     "data": {
      "application/vnd.jupyter.widget-view+json": {
       "model_id": "b454ea6ed92740b183a13771dc7ab78f",
       "version_major": 2,
       "version_minor": 0
      },
      "text/plain": [
       "HBox(children=(FloatProgress(value=0.0, max=20.0), HTML(value='')))"
      ]
     },
     "metadata": {},
     "output_type": "display_data"
    },
    {
     "name": "stdout",
     "output_type": "stream",
     "text": [
      "\n",
      "For the categories: Arts_Crafts_and_Sewing Luxury_Beauty\n",
      "This category is recommended:  Automotive\n"
     ]
    },
    {
     "data": {
      "application/vnd.jupyter.widget-view+json": {
       "model_id": "da69640ebca54974ae9af3b01067f02c",
       "version_major": 2,
       "version_minor": 0
      },
      "text/plain": [
       "HBox(children=(FloatProgress(value=0.0, max=20.0), HTML(value='')))"
      ]
     },
     "metadata": {},
     "output_type": "display_data"
    },
    {
     "name": "stdout",
     "output_type": "stream",
     "text": [
      "\n",
      "For the categories: Arts_Crafts_and_Sewing Movies_and_TV\n",
      "This category is recommended:  Automotive\n"
     ]
    },
    {
     "data": {
      "application/vnd.jupyter.widget-view+json": {
       "model_id": "22860bd13f7840f08a2c1f71a8c49b7e",
       "version_major": 2,
       "version_minor": 0
      },
      "text/plain": [
       "HBox(children=(FloatProgress(value=0.0, max=20.0), HTML(value='')))"
      ]
     },
     "metadata": {},
     "output_type": "display_data"
    },
    {
     "name": "stdout",
     "output_type": "stream",
     "text": [
      "\n",
      "For the categories: Arts_Crafts_and_Sewing Musical_Instruments\n",
      "This category is recommended:  Automotive\n"
     ]
    },
    {
     "data": {
      "application/vnd.jupyter.widget-view+json": {
       "model_id": "deb3fb35537244fe9400541e251ddc3c",
       "version_major": 2,
       "version_minor": 0
      },
      "text/plain": [
       "HBox(children=(FloatProgress(value=0.0, max=20.0), HTML(value='')))"
      ]
     },
     "metadata": {},
     "output_type": "display_data"
    },
    {
     "name": "stdout",
     "output_type": "stream",
     "text": [
      "\n",
      "For the categories: Arts_Crafts_and_Sewing Patio_Lawn_and_Garden\n",
      "This category is recommended:  Sports_and_Outdoors\n"
     ]
    },
    {
     "data": {
      "application/vnd.jupyter.widget-view+json": {
       "model_id": "63af2e3c206e400bb7ad26f85c82a913",
       "version_major": 2,
       "version_minor": 0
      },
      "text/plain": [
       "HBox(children=(FloatProgress(value=0.0, max=20.0), HTML(value='')))"
      ]
     },
     "metadata": {},
     "output_type": "display_data"
    },
    {
     "name": "stdout",
     "output_type": "stream",
     "text": [
      "\n",
      "For the categories: Arts_Crafts_and_Sewing Prime_Pantry\n",
      "This category is recommended:  Automotive\n"
     ]
    },
    {
     "data": {
      "application/vnd.jupyter.widget-view+json": {
       "model_id": "257e992429834c9aa7a04140069d2907",
       "version_major": 2,
       "version_minor": 0
      },
      "text/plain": [
       "HBox(children=(FloatProgress(value=0.0, max=20.0), HTML(value='')))"
      ]
     },
     "metadata": {},
     "output_type": "display_data"
    },
    {
     "name": "stdout",
     "output_type": "stream",
     "text": [
      "\n",
      "For the categories: Arts_Crafts_and_Sewing Sports_and_Outdoors\n",
      "This category is recommended:  Kindle_Store\n"
     ]
    },
    {
     "data": {
      "application/vnd.jupyter.widget-view+json": {
       "model_id": "cc14ce346aa744a9a9eeaaa246919a96",
       "version_major": 2,
       "version_minor": 0
      },
      "text/plain": [
       "HBox(children=(FloatProgress(value=0.0, max=20.0), HTML(value='')))"
      ]
     },
     "metadata": {},
     "output_type": "display_data"
    },
    {
     "name": "stdout",
     "output_type": "stream",
     "text": [
      "\n",
      "For the categories: Arts_Crafts_and_Sewing Tools_and_Home_Improvement\n",
      "This category is recommended:  Luxury_Beauty\n"
     ]
    },
    {
     "data": {
      "application/vnd.jupyter.widget-view+json": {
       "model_id": "2094f0f953ae499b91b7ecd1e364c444",
       "version_major": 2,
       "version_minor": 0
      },
      "text/plain": [
       "HBox(children=(FloatProgress(value=0.0, max=20.0), HTML(value='')))"
      ]
     },
     "metadata": {},
     "output_type": "display_data"
    },
    {
     "name": "stdout",
     "output_type": "stream",
     "text": [
      "\n",
      "For the categories: Arts_Crafts_and_Sewing Toys_and_Games\n",
      "This category is recommended:  Automotive\n"
     ]
    },
    {
     "data": {
      "application/vnd.jupyter.widget-view+json": {
       "model_id": "9e2ea3fb50ec4787853dfcb945b5e7df",
       "version_major": 2,
       "version_minor": 0
      },
      "text/plain": [
       "HBox(children=(FloatProgress(value=0.0, max=20.0), HTML(value='')))"
      ]
     },
     "metadata": {},
     "output_type": "display_data"
    },
    {
     "name": "stdout",
     "output_type": "stream",
     "text": [
      "\n",
      "For the categories: Arts_Crafts_and_Sewing Video_Games\n",
      "This category is recommended:  Luxury_Beauty\n"
     ]
    },
    {
     "data": {
      "application/vnd.jupyter.widget-view+json": {
       "model_id": "f4aa824524a449ee96064138ea0f700e",
       "version_major": 2,
       "version_minor": 0
      },
      "text/plain": [
       "HBox(children=(FloatProgress(value=0.0, max=20.0), HTML(value='')))"
      ]
     },
     "metadata": {},
     "output_type": "display_data"
    },
    {
     "name": "stdout",
     "output_type": "stream",
     "text": [
      "\n",
      "For the categories: Automotive CDs_and_Vinyl\n",
      "This category is recommended:  Grocery_and_Gourmet_Food\n"
     ]
    },
    {
     "data": {
      "application/vnd.jupyter.widget-view+json": {
       "model_id": "e02365d024b64bc8a6f7042fcd96709a",
       "version_major": 2,
       "version_minor": 0
      },
      "text/plain": [
       "HBox(children=(FloatProgress(value=0.0, max=20.0), HTML(value='')))"
      ]
     },
     "metadata": {},
     "output_type": "display_data"
    },
    {
     "name": "stdout",
     "output_type": "stream",
     "text": [
      "\n",
      "For the categories: Automotive Cell_Phones_and_Accessories\n",
      "This category is recommended:  Grocery_and_Gourmet_Food\n"
     ]
    },
    {
     "data": {
      "application/vnd.jupyter.widget-view+json": {
       "model_id": "56338006f8dd421b8d81ec586b1309cb",
       "version_major": 2,
       "version_minor": 0
      },
      "text/plain": [
       "HBox(children=(FloatProgress(value=0.0, max=20.0), HTML(value='')))"
      ]
     },
     "metadata": {},
     "output_type": "display_data"
    },
    {
     "name": "stdout",
     "output_type": "stream",
     "text": [
      "\n",
      "For the categories: Automotive Clothing_Shoes_and_Jewelry\n",
      "This category is recommended:  Grocery_and_Gourmet_Food\n"
     ]
    },
    {
     "data": {
      "application/vnd.jupyter.widget-view+json": {
       "model_id": "b92e771601f842459c4e8a271231582d",
       "version_major": 2,
       "version_minor": 0
      },
      "text/plain": [
       "HBox(children=(FloatProgress(value=0.0, max=20.0), HTML(value='')))"
      ]
     },
     "metadata": {},
     "output_type": "display_data"
    },
    {
     "name": "stdout",
     "output_type": "stream",
     "text": [
      "\n",
      "For the categories: Automotive Electronics\n",
      "This category is recommended:  Grocery_and_Gourmet_Food\n"
     ]
    },
    {
     "data": {
      "application/vnd.jupyter.widget-view+json": {
       "model_id": "edf70def6d9e4d4a9692b8b0c6464591",
       "version_major": 2,
       "version_minor": 0
      },
      "text/plain": [
       "HBox(children=(FloatProgress(value=0.0, max=20.0), HTML(value='')))"
      ]
     },
     "metadata": {},
     "output_type": "display_data"
    },
    {
     "name": "stdout",
     "output_type": "stream",
     "text": [
      "\n",
      "For the categories: Automotive Grocery_and_Gourmet_Food\n",
      "This category is recommended:  Toys_and_Games\n"
     ]
    },
    {
     "data": {
      "application/vnd.jupyter.widget-view+json": {
       "model_id": "c89f4a336c634d07a1839a922dfb3d2c",
       "version_major": 2,
       "version_minor": 0
      },
      "text/plain": [
       "HBox(children=(FloatProgress(value=0.0, max=20.0), HTML(value='')))"
      ]
     },
     "metadata": {},
     "output_type": "display_data"
    },
    {
     "name": "stdout",
     "output_type": "stream",
     "text": [
      "\n",
      "For the categories: Automotive Home_and_Kitchen\n",
      "This category is recommended:  Luxury_Beauty\n"
     ]
    },
    {
     "data": {
      "application/vnd.jupyter.widget-view+json": {
       "model_id": "89b4d4dbd3ac498aa6aba61f0c4b4a25",
       "version_major": 2,
       "version_minor": 0
      },
      "text/plain": [
       "HBox(children=(FloatProgress(value=0.0, max=20.0), HTML(value='')))"
      ]
     },
     "metadata": {},
     "output_type": "display_data"
    },
    {
     "name": "stdout",
     "output_type": "stream",
     "text": [
      "\n",
      "For the categories: Automotive Industrial_and_Scientific\n",
      "This category is recommended:  Grocery_and_Gourmet_Food\n"
     ]
    },
    {
     "data": {
      "application/vnd.jupyter.widget-view+json": {
       "model_id": "1e1b3673eb4d41288937ef91e06e011f",
       "version_major": 2,
       "version_minor": 0
      },
      "text/plain": [
       "HBox(children=(FloatProgress(value=0.0, max=20.0), HTML(value='')))"
      ]
     },
     "metadata": {},
     "output_type": "display_data"
    },
    {
     "name": "stdout",
     "output_type": "stream",
     "text": [
      "\n",
      "For the categories: Automotive Kindle_Store\n",
      "This category is recommended:  Grocery_and_Gourmet_Food\n"
     ]
    },
    {
     "data": {
      "application/vnd.jupyter.widget-view+json": {
       "model_id": "7392d000d9d74e00ab9020fc67bf34b3",
       "version_major": 2,
       "version_minor": 0
      },
      "text/plain": [
       "HBox(children=(FloatProgress(value=0.0, max=20.0), HTML(value='')))"
      ]
     },
     "metadata": {},
     "output_type": "display_data"
    },
    {
     "name": "stdout",
     "output_type": "stream",
     "text": [
      "\n",
      "For the categories: Automotive Luxury_Beauty\n",
      "This category is recommended:  Grocery_and_Gourmet_Food\n"
     ]
    },
    {
     "data": {
      "application/vnd.jupyter.widget-view+json": {
       "model_id": "a5f2da20ed964379b3999a38a455fb34",
       "version_major": 2,
       "version_minor": 0
      },
      "text/plain": [
       "HBox(children=(FloatProgress(value=0.0, max=20.0), HTML(value='')))"
      ]
     },
     "metadata": {},
     "output_type": "display_data"
    },
    {
     "name": "stdout",
     "output_type": "stream",
     "text": [
      "\n",
      "For the categories: Automotive Movies_and_TV\n",
      "This category is recommended:  Grocery_and_Gourmet_Food\n"
     ]
    },
    {
     "data": {
      "application/vnd.jupyter.widget-view+json": {
       "model_id": "ea2afe06dedf4d0180b75b0cf645406e",
       "version_major": 2,
       "version_minor": 0
      },
      "text/plain": [
       "HBox(children=(FloatProgress(value=0.0, max=20.0), HTML(value='')))"
      ]
     },
     "metadata": {},
     "output_type": "display_data"
    },
    {
     "name": "stdout",
     "output_type": "stream",
     "text": [
      "\n",
      "For the categories: Automotive Musical_Instruments\n",
      "This category is recommended:  Grocery_and_Gourmet_Food\n"
     ]
    },
    {
     "data": {
      "application/vnd.jupyter.widget-view+json": {
       "model_id": "02b017312b71497eb4935564b1375c0e",
       "version_major": 2,
       "version_minor": 0
      },
      "text/plain": [
       "HBox(children=(FloatProgress(value=0.0, max=20.0), HTML(value='')))"
      ]
     },
     "metadata": {},
     "output_type": "display_data"
    },
    {
     "name": "stdout",
     "output_type": "stream",
     "text": [
      "\n",
      "For the categories: Automotive Patio_Lawn_and_Garden\n",
      "This category is recommended:  Toys_and_Games\n"
     ]
    },
    {
     "data": {
      "application/vnd.jupyter.widget-view+json": {
       "model_id": "d6f301e68ae145ab95248af7759b0a2d",
       "version_major": 2,
       "version_minor": 0
      },
      "text/plain": [
       "HBox(children=(FloatProgress(value=0.0, max=20.0), HTML(value='')))"
      ]
     },
     "metadata": {},
     "output_type": "display_data"
    },
    {
     "name": "stdout",
     "output_type": "stream",
     "text": [
      "\n",
      "For the categories: Automotive Prime_Pantry\n",
      "This category is recommended:  Home_and_Kitchen\n"
     ]
    },
    {
     "data": {
      "application/vnd.jupyter.widget-view+json": {
       "model_id": "5aae1a7e27624ec2a08fd2f350ec82a9",
       "version_major": 2,
       "version_minor": 0
      },
      "text/plain": [
       "HBox(children=(FloatProgress(value=0.0, max=20.0), HTML(value='')))"
      ]
     },
     "metadata": {},
     "output_type": "display_data"
    },
    {
     "name": "stdout",
     "output_type": "stream",
     "text": [
      "\n",
      "For the categories: Automotive Sports_and_Outdoors\n",
      "This category is recommended:  Grocery_and_Gourmet_Food\n"
     ]
    },
    {
     "data": {
      "application/vnd.jupyter.widget-view+json": {
       "model_id": "b5b2e0791ea64a88a1837e8c93209558",
       "version_major": 2,
       "version_minor": 0
      },
      "text/plain": [
       "HBox(children=(FloatProgress(value=0.0, max=20.0), HTML(value='')))"
      ]
     },
     "metadata": {},
     "output_type": "display_data"
    },
    {
     "name": "stdout",
     "output_type": "stream",
     "text": [
      "\n",
      "For the categories: Automotive Tools_and_Home_Improvement\n",
      "This category is recommended:  Grocery_and_Gourmet_Food\n"
     ]
    },
    {
     "data": {
      "application/vnd.jupyter.widget-view+json": {
       "model_id": "7e216dc2ae454b718434dee48fd25687",
       "version_major": 2,
       "version_minor": 0
      },
      "text/plain": [
       "HBox(children=(FloatProgress(value=0.0, max=20.0), HTML(value='')))"
      ]
     },
     "metadata": {},
     "output_type": "display_data"
    },
    {
     "name": "stdout",
     "output_type": "stream",
     "text": [
      "\n",
      "For the categories: Automotive Toys_and_Games\n",
      "This category is recommended:  Grocery_and_Gourmet_Food\n"
     ]
    },
    {
     "data": {
      "application/vnd.jupyter.widget-view+json": {
       "model_id": "8224c22ba35c40bb91d25f30b84a1762",
       "version_major": 2,
       "version_minor": 0
      },
      "text/plain": [
       "HBox(children=(FloatProgress(value=0.0, max=20.0), HTML(value='')))"
      ]
     },
     "metadata": {},
     "output_type": "display_data"
    },
    {
     "name": "stdout",
     "output_type": "stream",
     "text": [
      "\n",
      "For the categories: Automotive Video_Games\n",
      "This category is recommended:  Grocery_and_Gourmet_Food\n"
     ]
    },
    {
     "data": {
      "application/vnd.jupyter.widget-view+json": {
       "model_id": "87f3a64f63154e89b4c7772ee7e333b6",
       "version_major": 2,
       "version_minor": 0
      },
      "text/plain": [
       "HBox(children=(FloatProgress(value=0.0, max=20.0), HTML(value='')))"
      ]
     },
     "metadata": {},
     "output_type": "display_data"
    },
    {
     "name": "stdout",
     "output_type": "stream",
     "text": [
      "\n",
      "For the categories: CDs_and_Vinyl Cell_Phones_and_Accessories\n",
      "This category is recommended:  Grocery_and_Gourmet_Food\n"
     ]
    },
    {
     "data": {
      "application/vnd.jupyter.widget-view+json": {
       "model_id": "95f9d37894fb47138e6f1f8c6de810e0",
       "version_major": 2,
       "version_minor": 0
      },
      "text/plain": [
       "HBox(children=(FloatProgress(value=0.0, max=20.0), HTML(value='')))"
      ]
     },
     "metadata": {},
     "output_type": "display_data"
    },
    {
     "name": "stdout",
     "output_type": "stream",
     "text": [
      "\n",
      "For the categories: CDs_and_Vinyl Clothing_Shoes_and_Jewelry\n",
      "This category is recommended:  Tools_and_Home_Improvement\n"
     ]
    },
    {
     "data": {
      "application/vnd.jupyter.widget-view+json": {
       "model_id": "ddb4b91ba3f848af8835ef67c087dc4e",
       "version_major": 2,
       "version_minor": 0
      },
      "text/plain": [
       "HBox(children=(FloatProgress(value=0.0, max=20.0), HTML(value='')))"
      ]
     },
     "metadata": {},
     "output_type": "display_data"
    },
    {
     "name": "stdout",
     "output_type": "stream",
     "text": [
      "\n",
      "For the categories: CDs_and_Vinyl Electronics\n",
      "This category is recommended:  Grocery_and_Gourmet_Food\n"
     ]
    },
    {
     "data": {
      "application/vnd.jupyter.widget-view+json": {
       "model_id": "7287dcf681eb48298cd0c885b68fa558",
       "version_major": 2,
       "version_minor": 0
      },
      "text/plain": [
       "HBox(children=(FloatProgress(value=0.0, max=20.0), HTML(value='')))"
      ]
     },
     "metadata": {},
     "output_type": "display_data"
    },
    {
     "name": "stdout",
     "output_type": "stream",
     "text": [
      "\n",
      "For the categories: CDs_and_Vinyl Grocery_and_Gourmet_Food\n",
      "This category is recommended:  Tools_and_Home_Improvement\n"
     ]
    },
    {
     "data": {
      "application/vnd.jupyter.widget-view+json": {
       "model_id": "f0652f8eb7024e12bca0e19729f393b0",
       "version_major": 2,
       "version_minor": 0
      },
      "text/plain": [
       "HBox(children=(FloatProgress(value=0.0, max=20.0), HTML(value='')))"
      ]
     },
     "metadata": {},
     "output_type": "display_data"
    },
    {
     "name": "stdout",
     "output_type": "stream",
     "text": [
      "\n",
      "For the categories: CDs_and_Vinyl Home_and_Kitchen\n",
      "This category is recommended:  Automotive\n"
     ]
    },
    {
     "data": {
      "application/vnd.jupyter.widget-view+json": {
       "model_id": "e9cbaba9388c4cc6b0ceae2307a80bd7",
       "version_major": 2,
       "version_minor": 0
      },
      "text/plain": [
       "HBox(children=(FloatProgress(value=0.0, max=20.0), HTML(value='')))"
      ]
     },
     "metadata": {},
     "output_type": "display_data"
    },
    {
     "name": "stdout",
     "output_type": "stream",
     "text": [
      "\n",
      "For the categories: CDs_and_Vinyl Industrial_and_Scientific\n",
      "This category is recommended:  Luxury_Beauty\n"
     ]
    },
    {
     "data": {
      "application/vnd.jupyter.widget-view+json": {
       "model_id": "98167121b3a14e8480b5e300e79b2aef",
       "version_major": 2,
       "version_minor": 0
      },
      "text/plain": [
       "HBox(children=(FloatProgress(value=0.0, max=20.0), HTML(value='')))"
      ]
     },
     "metadata": {},
     "output_type": "display_data"
    },
    {
     "name": "stdout",
     "output_type": "stream",
     "text": [
      "\n",
      "For the categories: CDs_and_Vinyl Kindle_Store\n",
      "This category is recommended:  Tools_and_Home_Improvement\n"
     ]
    },
    {
     "data": {
      "application/vnd.jupyter.widget-view+json": {
       "model_id": "294a4de94fb548278eb070abab37c308",
       "version_major": 2,
       "version_minor": 0
      },
      "text/plain": [
       "HBox(children=(FloatProgress(value=0.0, max=20.0), HTML(value='')))"
      ]
     },
     "metadata": {},
     "output_type": "display_data"
    },
    {
     "name": "stdout",
     "output_type": "stream",
     "text": [
      "\n",
      "For the categories: CDs_and_Vinyl Luxury_Beauty\n",
      "This category is recommended:  Tools_and_Home_Improvement\n"
     ]
    },
    {
     "data": {
      "application/vnd.jupyter.widget-view+json": {
       "model_id": "8fb3ed9586e94342a77a82687ed5ccec",
       "version_major": 2,
       "version_minor": 0
      },
      "text/plain": [
       "HBox(children=(FloatProgress(value=0.0, max=20.0), HTML(value='')))"
      ]
     },
     "metadata": {},
     "output_type": "display_data"
    },
    {
     "name": "stdout",
     "output_type": "stream",
     "text": [
      "\n",
      "For the categories: CDs_and_Vinyl Movies_and_TV\n",
      "This category is recommended:  Tools_and_Home_Improvement\n"
     ]
    },
    {
     "data": {
      "application/vnd.jupyter.widget-view+json": {
       "model_id": "90b96c0fbc6c4e9c817e54dd92a84c76",
       "version_major": 2,
       "version_minor": 0
      },
      "text/plain": [
       "HBox(children=(FloatProgress(value=0.0, max=20.0), HTML(value='')))"
      ]
     },
     "metadata": {},
     "output_type": "display_data"
    },
    {
     "name": "stdout",
     "output_type": "stream",
     "text": [
      "\n",
      "For the categories: CDs_and_Vinyl Musical_Instruments\n",
      "This category is recommended:  Grocery_and_Gourmet_Food\n"
     ]
    },
    {
     "data": {
      "application/vnd.jupyter.widget-view+json": {
       "model_id": "a7d80c8a7dfc456b86aba52642710641",
       "version_major": 2,
       "version_minor": 0
      },
      "text/plain": [
       "HBox(children=(FloatProgress(value=0.0, max=20.0), HTML(value='')))"
      ]
     },
     "metadata": {},
     "output_type": "display_data"
    },
    {
     "name": "stdout",
     "output_type": "stream",
     "text": [
      "\n",
      "For the categories: CDs_and_Vinyl Patio_Lawn_and_Garden\n",
      "This category is recommended:  Sports_and_Outdoors\n"
     ]
    },
    {
     "data": {
      "application/vnd.jupyter.widget-view+json": {
       "model_id": "2f4764def4204050bd4d1bb31be128c4",
       "version_major": 2,
       "version_minor": 0
      },
      "text/plain": [
       "HBox(children=(FloatProgress(value=0.0, max=20.0), HTML(value='')))"
      ]
     },
     "metadata": {},
     "output_type": "display_data"
    },
    {
     "name": "stdout",
     "output_type": "stream",
     "text": [
      "\n",
      "For the categories: CDs_and_Vinyl Prime_Pantry\n",
      "This category is recommended:  Luxury_Beauty\n"
     ]
    },
    {
     "data": {
      "application/vnd.jupyter.widget-view+json": {
       "model_id": "9586f48ac81742b99e3154cce3ce1e29",
       "version_major": 2,
       "version_minor": 0
      },
      "text/plain": [
       "HBox(children=(FloatProgress(value=0.0, max=20.0), HTML(value='')))"
      ]
     },
     "metadata": {},
     "output_type": "display_data"
    },
    {
     "name": "stdout",
     "output_type": "stream",
     "text": [
      "\n",
      "For the categories: CDs_and_Vinyl Sports_and_Outdoors\n",
      "This category is recommended:  Grocery_and_Gourmet_Food\n"
     ]
    },
    {
     "data": {
      "application/vnd.jupyter.widget-view+json": {
       "model_id": "204dd42668de4a4eac217b66d461f3c0",
       "version_major": 2,
       "version_minor": 0
      },
      "text/plain": [
       "HBox(children=(FloatProgress(value=0.0, max=20.0), HTML(value='')))"
      ]
     },
     "metadata": {},
     "output_type": "display_data"
    },
    {
     "name": "stdout",
     "output_type": "stream",
     "text": [
      "\n",
      "For the categories: CDs_and_Vinyl Tools_and_Home_Improvement\n",
      "This category is recommended:  Grocery_and_Gourmet_Food\n"
     ]
    },
    {
     "data": {
      "application/vnd.jupyter.widget-view+json": {
       "model_id": "71a5fcca32414c63b816eadee81b1420",
       "version_major": 2,
       "version_minor": 0
      },
      "text/plain": [
       "HBox(children=(FloatProgress(value=0.0, max=20.0), HTML(value='')))"
      ]
     },
     "metadata": {},
     "output_type": "display_data"
    },
    {
     "name": "stdout",
     "output_type": "stream",
     "text": [
      "\n",
      "For the categories: CDs_and_Vinyl Toys_and_Games\n",
      "This category is recommended:  Tools_and_Home_Improvement\n"
     ]
    },
    {
     "data": {
      "application/vnd.jupyter.widget-view+json": {
       "model_id": "057f25069e254ff3830a0edc0d9527da",
       "version_major": 2,
       "version_minor": 0
      },
      "text/plain": [
       "HBox(children=(FloatProgress(value=0.0, max=20.0), HTML(value='')))"
      ]
     },
     "metadata": {},
     "output_type": "display_data"
    },
    {
     "name": "stdout",
     "output_type": "stream",
     "text": [
      "\n",
      "For the categories: CDs_and_Vinyl Video_Games\n",
      "This category is recommended:  Kindle_Store\n"
     ]
    },
    {
     "data": {
      "application/vnd.jupyter.widget-view+json": {
       "model_id": "ff102538ae9f4222a94f11503ea27c4a",
       "version_major": 2,
       "version_minor": 0
      },
      "text/plain": [
       "HBox(children=(FloatProgress(value=0.0, max=20.0), HTML(value='')))"
      ]
     },
     "metadata": {},
     "output_type": "display_data"
    },
    {
     "name": "stdout",
     "output_type": "stream",
     "text": [
      "\n",
      "For the categories: Cell_Phones_and_Accessories Clothing_Shoes_and_Jewelry\n",
      "This category is recommended:  Tools_and_Home_Improvement\n"
     ]
    },
    {
     "data": {
      "application/vnd.jupyter.widget-view+json": {
       "model_id": "d942bb479dec4952b850cc06b4a307be",
       "version_major": 2,
       "version_minor": 0
      },
      "text/plain": [
       "HBox(children=(FloatProgress(value=0.0, max=20.0), HTML(value='')))"
      ]
     },
     "metadata": {},
     "output_type": "display_data"
    },
    {
     "name": "stdout",
     "output_type": "stream",
     "text": [
      "\n",
      "For the categories: Cell_Phones_and_Accessories Electronics\n",
      "This category is recommended:  Grocery_and_Gourmet_Food\n"
     ]
    },
    {
     "data": {
      "application/vnd.jupyter.widget-view+json": {
       "model_id": "aec694c22312480ca47459131a55aff5",
       "version_major": 2,
       "version_minor": 0
      },
      "text/plain": [
       "HBox(children=(FloatProgress(value=0.0, max=20.0), HTML(value='')))"
      ]
     },
     "metadata": {},
     "output_type": "display_data"
    },
    {
     "name": "stdout",
     "output_type": "stream",
     "text": [
      "\n",
      "For the categories: Cell_Phones_and_Accessories Grocery_and_Gourmet_Food\n",
      "This category is recommended:  Tools_and_Home_Improvement\n"
     ]
    },
    {
     "data": {
      "application/vnd.jupyter.widget-view+json": {
       "model_id": "28dc7cba4abb48c5a80fcce0fa75f914",
       "version_major": 2,
       "version_minor": 0
      },
      "text/plain": [
       "HBox(children=(FloatProgress(value=0.0, max=20.0), HTML(value='')))"
      ]
     },
     "metadata": {},
     "output_type": "display_data"
    },
    {
     "name": "stdout",
     "output_type": "stream",
     "text": [
      "\n",
      "For the categories: Cell_Phones_and_Accessories Home_and_Kitchen\n",
      "This category is recommended:  Automotive\n"
     ]
    },
    {
     "data": {
      "application/vnd.jupyter.widget-view+json": {
       "model_id": "854975b2f31f40189f297ac04c3d9f36",
       "version_major": 2,
       "version_minor": 0
      },
      "text/plain": [
       "HBox(children=(FloatProgress(value=0.0, max=20.0), HTML(value='')))"
      ]
     },
     "metadata": {},
     "output_type": "display_data"
    },
    {
     "name": "stdout",
     "output_type": "stream",
     "text": [
      "\n",
      "For the categories: Cell_Phones_and_Accessories Industrial_and_Scientific\n",
      "This category is recommended:  Luxury_Beauty\n"
     ]
    },
    {
     "data": {
      "application/vnd.jupyter.widget-view+json": {
       "model_id": "77d85d34dfe046d29e2ea5bb28f6ca1d",
       "version_major": 2,
       "version_minor": 0
      },
      "text/plain": [
       "HBox(children=(FloatProgress(value=0.0, max=20.0), HTML(value='')))"
      ]
     },
     "metadata": {},
     "output_type": "display_data"
    },
    {
     "name": "stdout",
     "output_type": "stream",
     "text": [
      "\n",
      "For the categories: Cell_Phones_and_Accessories Kindle_Store\n",
      "This category is recommended:  Tools_and_Home_Improvement\n"
     ]
    },
    {
     "data": {
      "application/vnd.jupyter.widget-view+json": {
       "model_id": "efa4dee8afc1482e87297d9197ed4414",
       "version_major": 2,
       "version_minor": 0
      },
      "text/plain": [
       "HBox(children=(FloatProgress(value=0.0, max=20.0), HTML(value='')))"
      ]
     },
     "metadata": {},
     "output_type": "display_data"
    },
    {
     "name": "stdout",
     "output_type": "stream",
     "text": [
      "\n",
      "For the categories: Cell_Phones_and_Accessories Luxury_Beauty\n",
      "This category is recommended:  Patio_Lawn_and_Garden\n"
     ]
    },
    {
     "data": {
      "application/vnd.jupyter.widget-view+json": {
       "model_id": "87e68e4aadf54342a290d7a30c1470f8",
       "version_major": 2,
       "version_minor": 0
      },
      "text/plain": [
       "HBox(children=(FloatProgress(value=0.0, max=20.0), HTML(value='')))"
      ]
     },
     "metadata": {},
     "output_type": "display_data"
    },
    {
     "name": "stdout",
     "output_type": "stream",
     "text": [
      "\n",
      "For the categories: Cell_Phones_and_Accessories Movies_and_TV\n",
      "This category is recommended:  Tools_and_Home_Improvement\n"
     ]
    },
    {
     "data": {
      "application/vnd.jupyter.widget-view+json": {
       "model_id": "8c154d08ca5a4f9fb31caa61627596e2",
       "version_major": 2,
       "version_minor": 0
      },
      "text/plain": [
       "HBox(children=(FloatProgress(value=0.0, max=20.0), HTML(value='')))"
      ]
     },
     "metadata": {},
     "output_type": "display_data"
    },
    {
     "name": "stdout",
     "output_type": "stream",
     "text": [
      "\n",
      "For the categories: Cell_Phones_and_Accessories Musical_Instruments\n",
      "This category is recommended:  Grocery_and_Gourmet_Food\n"
     ]
    },
    {
     "data": {
      "application/vnd.jupyter.widget-view+json": {
       "model_id": "92a0e0c03c82449794ac06d8a11c4d11",
       "version_major": 2,
       "version_minor": 0
      },
      "text/plain": [
       "HBox(children=(FloatProgress(value=0.0, max=20.0), HTML(value='')))"
      ]
     },
     "metadata": {},
     "output_type": "display_data"
    },
    {
     "name": "stdout",
     "output_type": "stream",
     "text": [
      "\n",
      "For the categories: Cell_Phones_and_Accessories Patio_Lawn_and_Garden\n",
      "This category is recommended:  Sports_and_Outdoors\n"
     ]
    },
    {
     "data": {
      "application/vnd.jupyter.widget-view+json": {
       "model_id": "61a30d5fa61049c5b308d4b856407b30",
       "version_major": 2,
       "version_minor": 0
      },
      "text/plain": [
       "HBox(children=(FloatProgress(value=0.0, max=20.0), HTML(value='')))"
      ]
     },
     "metadata": {},
     "output_type": "display_data"
    },
    {
     "name": "stdout",
     "output_type": "stream",
     "text": [
      "\n",
      "For the categories: Cell_Phones_and_Accessories Prime_Pantry\n",
      "This category is recommended:  Tools_and_Home_Improvement\n"
     ]
    },
    {
     "data": {
      "application/vnd.jupyter.widget-view+json": {
       "model_id": "cc3f2cf3cc594ea5a3237c03600cb2f3",
       "version_major": 2,
       "version_minor": 0
      },
      "text/plain": [
       "HBox(children=(FloatProgress(value=0.0, max=20.0), HTML(value='')))"
      ]
     },
     "metadata": {},
     "output_type": "display_data"
    },
    {
     "name": "stdout",
     "output_type": "stream",
     "text": [
      "\n",
      "For the categories: Cell_Phones_and_Accessories Sports_and_Outdoors\n",
      "This category is recommended:  Patio_Lawn_and_Garden\n"
     ]
    },
    {
     "data": {
      "application/vnd.jupyter.widget-view+json": {
       "model_id": "bfc7c5c8ac4d4132afbe60b8083ad65a",
       "version_major": 2,
       "version_minor": 0
      },
      "text/plain": [
       "HBox(children=(FloatProgress(value=0.0, max=20.0), HTML(value='')))"
      ]
     },
     "metadata": {},
     "output_type": "display_data"
    },
    {
     "name": "stdout",
     "output_type": "stream",
     "text": [
      "\n",
      "For the categories: Cell_Phones_and_Accessories Tools_and_Home_Improvement\n",
      "This category is recommended:  Grocery_and_Gourmet_Food\n"
     ]
    },
    {
     "data": {
      "application/vnd.jupyter.widget-view+json": {
       "model_id": "4817122740b84391accb687dd40890e7",
       "version_major": 2,
       "version_minor": 0
      },
      "text/plain": [
       "HBox(children=(FloatProgress(value=0.0, max=20.0), HTML(value='')))"
      ]
     },
     "metadata": {},
     "output_type": "display_data"
    },
    {
     "name": "stdout",
     "output_type": "stream",
     "text": [
      "\n",
      "For the categories: Cell_Phones_and_Accessories Toys_and_Games\n",
      "This category is recommended:  Tools_and_Home_Improvement\n"
     ]
    },
    {
     "data": {
      "application/vnd.jupyter.widget-view+json": {
       "model_id": "44dea0bd810e44c9a5a7ae15484d862a",
       "version_major": 2,
       "version_minor": 0
      },
      "text/plain": [
       "HBox(children=(FloatProgress(value=0.0, max=20.0), HTML(value='')))"
      ]
     },
     "metadata": {},
     "output_type": "display_data"
    },
    {
     "name": "stdout",
     "output_type": "stream",
     "text": [
      "\n",
      "For the categories: Cell_Phones_and_Accessories Video_Games\n",
      "This category is recommended:  Grocery_and_Gourmet_Food\n"
     ]
    },
    {
     "data": {
      "application/vnd.jupyter.widget-view+json": {
       "model_id": "32b5d2620e2c46b7b723f4a8f6bfc34b",
       "version_major": 2,
       "version_minor": 0
      },
      "text/plain": [
       "HBox(children=(FloatProgress(value=0.0, max=20.0), HTML(value='')))"
      ]
     },
     "metadata": {},
     "output_type": "display_data"
    },
    {
     "name": "stdout",
     "output_type": "stream",
     "text": [
      "\n",
      "For the categories: Clothing_Shoes_and_Jewelry Electronics\n",
      "This category is recommended:  Patio_Lawn_and_Garden\n"
     ]
    },
    {
     "data": {
      "application/vnd.jupyter.widget-view+json": {
       "model_id": "47398feb402b4bb2aeadf9e27ee93e34",
       "version_major": 2,
       "version_minor": 0
      },
      "text/plain": [
       "HBox(children=(FloatProgress(value=0.0, max=20.0), HTML(value='')))"
      ]
     },
     "metadata": {},
     "output_type": "display_data"
    },
    {
     "name": "stdout",
     "output_type": "stream",
     "text": [
      "\n",
      "For the categories: Clothing_Shoes_and_Jewelry Grocery_and_Gourmet_Food\n",
      "This category is recommended:  Tools_and_Home_Improvement\n"
     ]
    },
    {
     "data": {
      "application/vnd.jupyter.widget-view+json": {
       "model_id": "ccdf776886fc44138996c5fe1cfba1d1",
       "version_major": 2,
       "version_minor": 0
      },
      "text/plain": [
       "HBox(children=(FloatProgress(value=0.0, max=20.0), HTML(value='')))"
      ]
     },
     "metadata": {},
     "output_type": "display_data"
    },
    {
     "name": "stdout",
     "output_type": "stream",
     "text": [
      "\n",
      "For the categories: Clothing_Shoes_and_Jewelry Home_and_Kitchen\n",
      "This category is recommended:  Automotive\n"
     ]
    },
    {
     "data": {
      "application/vnd.jupyter.widget-view+json": {
       "model_id": "1f3fa6dde60943b69fbdef908b82122d",
       "version_major": 2,
       "version_minor": 0
      },
      "text/plain": [
       "HBox(children=(FloatProgress(value=0.0, max=20.0), HTML(value='')))"
      ]
     },
     "metadata": {},
     "output_type": "display_data"
    },
    {
     "name": "stdout",
     "output_type": "stream",
     "text": [
      "\n",
      "For the categories: Clothing_Shoes_and_Jewelry Industrial_and_Scientific\n",
      "This category is recommended:  Kindle_Store\n"
     ]
    },
    {
     "data": {
      "application/vnd.jupyter.widget-view+json": {
       "model_id": "c68d324f2e2b49b29724fc808f19ca5c",
       "version_major": 2,
       "version_minor": 0
      },
      "text/plain": [
       "HBox(children=(FloatProgress(value=0.0, max=20.0), HTML(value='')))"
      ]
     },
     "metadata": {},
     "output_type": "display_data"
    },
    {
     "name": "stdout",
     "output_type": "stream",
     "text": [
      "\n",
      "For the categories: Clothing_Shoes_and_Jewelry Kindle_Store\n",
      "This category is recommended:  Tools_and_Home_Improvement\n"
     ]
    },
    {
     "data": {
      "application/vnd.jupyter.widget-view+json": {
       "model_id": "b89055dd00724ea49dbd7742304a29e6",
       "version_major": 2,
       "version_minor": 0
      },
      "text/plain": [
       "HBox(children=(FloatProgress(value=0.0, max=20.0), HTML(value='')))"
      ]
     },
     "metadata": {},
     "output_type": "display_data"
    },
    {
     "name": "stdout",
     "output_type": "stream",
     "text": [
      "\n",
      "For the categories: Clothing_Shoes_and_Jewelry Luxury_Beauty\n",
      "This category is recommended:  Tools_and_Home_Improvement\n"
     ]
    },
    {
     "data": {
      "application/vnd.jupyter.widget-view+json": {
       "model_id": "fd81c050d3e24445ba334ba8a8fe3d93",
       "version_major": 2,
       "version_minor": 0
      },
      "text/plain": [
       "HBox(children=(FloatProgress(value=0.0, max=20.0), HTML(value='')))"
      ]
     },
     "metadata": {},
     "output_type": "display_data"
    },
    {
     "name": "stdout",
     "output_type": "stream",
     "text": [
      "\n",
      "For the categories: Clothing_Shoes_and_Jewelry Movies_and_TV\n",
      "This category is recommended:  Tools_and_Home_Improvement\n"
     ]
    },
    {
     "data": {
      "application/vnd.jupyter.widget-view+json": {
       "model_id": "4b77386b5b6b4ed6b5cba1e007be2131",
       "version_major": 2,
       "version_minor": 0
      },
      "text/plain": [
       "HBox(children=(FloatProgress(value=0.0, max=20.0), HTML(value='')))"
      ]
     },
     "metadata": {},
     "output_type": "display_data"
    },
    {
     "name": "stdout",
     "output_type": "stream",
     "text": [
      "\n",
      "For the categories: Clothing_Shoes_and_Jewelry Musical_Instruments\n",
      "This category is recommended:  Kindle_Store\n"
     ]
    },
    {
     "data": {
      "application/vnd.jupyter.widget-view+json": {
       "model_id": "cfd2bd685ba9410bb1b3595a8b6323d2",
       "version_major": 2,
       "version_minor": 0
      },
      "text/plain": [
       "HBox(children=(FloatProgress(value=0.0, max=20.0), HTML(value='')))"
      ]
     },
     "metadata": {},
     "output_type": "display_data"
    },
    {
     "name": "stdout",
     "output_type": "stream",
     "text": [
      "\n",
      "For the categories: Clothing_Shoes_and_Jewelry Patio_Lawn_and_Garden\n",
      "This category is recommended:  Electronics\n"
     ]
    },
    {
     "data": {
      "application/vnd.jupyter.widget-view+json": {
       "model_id": "a1609e682dbb4f518d591468618c7eea",
       "version_major": 2,
       "version_minor": 0
      },
      "text/plain": [
       "HBox(children=(FloatProgress(value=0.0, max=20.0), HTML(value='')))"
      ]
     },
     "metadata": {},
     "output_type": "display_data"
    },
    {
     "name": "stdout",
     "output_type": "stream",
     "text": [
      "\n",
      "For the categories: Clothing_Shoes_and_Jewelry Prime_Pantry\n",
      "This category is recommended:  Electronics\n"
     ]
    },
    {
     "data": {
      "application/vnd.jupyter.widget-view+json": {
       "model_id": "dea02a68e2aa4500ac23ee3af0ab9738",
       "version_major": 2,
       "version_minor": 0
      },
      "text/plain": [
       "HBox(children=(FloatProgress(value=0.0, max=20.0), HTML(value='')))"
      ]
     },
     "metadata": {},
     "output_type": "display_data"
    },
    {
     "name": "stdout",
     "output_type": "stream",
     "text": [
      "\n",
      "For the categories: Clothing_Shoes_and_Jewelry Sports_and_Outdoors\n",
      "This category is recommended:  Patio_Lawn_and_Garden\n"
     ]
    },
    {
     "data": {
      "application/vnd.jupyter.widget-view+json": {
       "model_id": "6fc32fa30a1b42dd9d9e6600ac60f664",
       "version_major": 2,
       "version_minor": 0
      },
      "text/plain": [
       "HBox(children=(FloatProgress(value=0.0, max=20.0), HTML(value='')))"
      ]
     },
     "metadata": {},
     "output_type": "display_data"
    },
    {
     "name": "stdout",
     "output_type": "stream",
     "text": [
      "\n",
      "For the categories: Clothing_Shoes_and_Jewelry Tools_and_Home_Improvement\n",
      "This category is recommended:  Grocery_and_Gourmet_Food\n"
     ]
    },
    {
     "data": {
      "application/vnd.jupyter.widget-view+json": {
       "model_id": "c0e66bafa52f4c0e961b432da948f456",
       "version_major": 2,
       "version_minor": 0
      },
      "text/plain": [
       "HBox(children=(FloatProgress(value=0.0, max=20.0), HTML(value='')))"
      ]
     },
     "metadata": {},
     "output_type": "display_data"
    },
    {
     "name": "stdout",
     "output_type": "stream",
     "text": [
      "\n",
      "For the categories: Clothing_Shoes_and_Jewelry Toys_and_Games\n",
      "This category is recommended:  Tools_and_Home_Improvement\n"
     ]
    },
    {
     "data": {
      "application/vnd.jupyter.widget-view+json": {
       "model_id": "a162c69bca124819b8f448c1fd4ae845",
       "version_major": 2,
       "version_minor": 0
      },
      "text/plain": [
       "HBox(children=(FloatProgress(value=0.0, max=20.0), HTML(value='')))"
      ]
     },
     "metadata": {},
     "output_type": "display_data"
    },
    {
     "name": "stdout",
     "output_type": "stream",
     "text": [
      "\n",
      "For the categories: Clothing_Shoes_and_Jewelry Video_Games\n",
      "This category is recommended:  Tools_and_Home_Improvement\n"
     ]
    },
    {
     "data": {
      "application/vnd.jupyter.widget-view+json": {
       "model_id": "4af31ec6b86345aa87f050956fdc49b9",
       "version_major": 2,
       "version_minor": 0
      },
      "text/plain": [
       "HBox(children=(FloatProgress(value=0.0, max=20.0), HTML(value='')))"
      ]
     },
     "metadata": {},
     "output_type": "display_data"
    },
    {
     "name": "stdout",
     "output_type": "stream",
     "text": [
      "\n",
      "For the categories: Electronics Grocery_and_Gourmet_Food\n",
      "This category is recommended:  Sports_and_Outdoors\n"
     ]
    },
    {
     "data": {
      "application/vnd.jupyter.widget-view+json": {
       "model_id": "6e0d6b53b0e64394866abb5c9a8f41cb",
       "version_major": 2,
       "version_minor": 0
      },
      "text/plain": [
       "HBox(children=(FloatProgress(value=0.0, max=20.0), HTML(value='')))"
      ]
     },
     "metadata": {},
     "output_type": "display_data"
    },
    {
     "name": "stdout",
     "output_type": "stream",
     "text": [
      "\n",
      "For the categories: Electronics Home_and_Kitchen\n",
      "This category is recommended:  Sports_and_Outdoors\n"
     ]
    },
    {
     "data": {
      "application/vnd.jupyter.widget-view+json": {
       "model_id": "21f297cc9a5b4ea89096ee1e6719e2b2",
       "version_major": 2,
       "version_minor": 0
      },
      "text/plain": [
       "HBox(children=(FloatProgress(value=0.0, max=20.0), HTML(value='')))"
      ]
     },
     "metadata": {},
     "output_type": "display_data"
    },
    {
     "name": "stdout",
     "output_type": "stream",
     "text": [
      "\n",
      "For the categories: Electronics Industrial_and_Scientific\n",
      "This category is recommended:  Luxury_Beauty\n"
     ]
    },
    {
     "data": {
      "application/vnd.jupyter.widget-view+json": {
       "model_id": "136bc32cc1d14490837501d0d7f4efcd",
       "version_major": 2,
       "version_minor": 0
      },
      "text/plain": [
       "HBox(children=(FloatProgress(value=0.0, max=20.0), HTML(value='')))"
      ]
     },
     "metadata": {},
     "output_type": "display_data"
    },
    {
     "name": "stdout",
     "output_type": "stream",
     "text": [
      "\n",
      "For the categories: Electronics Kindle_Store\n",
      "This category is recommended:  Luxury_Beauty\n"
     ]
    },
    {
     "data": {
      "application/vnd.jupyter.widget-view+json": {
       "model_id": "4f0f4f841d464623bfb1fb02a7292df7",
       "version_major": 2,
       "version_minor": 0
      },
      "text/plain": [
       "HBox(children=(FloatProgress(value=0.0, max=20.0), HTML(value='')))"
      ]
     },
     "metadata": {},
     "output_type": "display_data"
    },
    {
     "name": "stdout",
     "output_type": "stream",
     "text": [
      "\n",
      "For the categories: Electronics Luxury_Beauty\n",
      "This category is recommended:  Kindle_Store\n"
     ]
    },
    {
     "data": {
      "application/vnd.jupyter.widget-view+json": {
       "model_id": "0d2f3acbc38e46189b8f31930a43f3ce",
       "version_major": 2,
       "version_minor": 0
      },
      "text/plain": [
       "HBox(children=(FloatProgress(value=0.0, max=20.0), HTML(value='')))"
      ]
     },
     "metadata": {},
     "output_type": "display_data"
    },
    {
     "name": "stdout",
     "output_type": "stream",
     "text": [
      "\n",
      "For the categories: Electronics Movies_and_TV\n",
      "This category is recommended:  Patio_Lawn_and_Garden\n"
     ]
    },
    {
     "data": {
      "application/vnd.jupyter.widget-view+json": {
       "model_id": "0918696b3a054fdfb65dc7aa7912ae14",
       "version_major": 2,
       "version_minor": 0
      },
      "text/plain": [
       "HBox(children=(FloatProgress(value=0.0, max=20.0), HTML(value='')))"
      ]
     },
     "metadata": {},
     "output_type": "display_data"
    },
    {
     "name": "stdout",
     "output_type": "stream",
     "text": [
      "\n",
      "For the categories: Electronics Musical_Instruments\n",
      "This category is recommended:  Grocery_and_Gourmet_Food\n"
     ]
    },
    {
     "data": {
      "application/vnd.jupyter.widget-view+json": {
       "model_id": "289003e610954ad7bb83d048fdd675f3",
       "version_major": 2,
       "version_minor": 0
      },
      "text/plain": [
       "HBox(children=(FloatProgress(value=0.0, max=20.0), HTML(value='')))"
      ]
     },
     "metadata": {},
     "output_type": "display_data"
    },
    {
     "name": "stdout",
     "output_type": "stream",
     "text": [
      "\n",
      "For the categories: Electronics Patio_Lawn_and_Garden\n",
      "This category is recommended:  Sports_and_Outdoors\n"
     ]
    },
    {
     "data": {
      "application/vnd.jupyter.widget-view+json": {
       "model_id": "1c159fb013a349bb8bee2e733b626357",
       "version_major": 2,
       "version_minor": 0
      },
      "text/plain": [
       "HBox(children=(FloatProgress(value=0.0, max=20.0), HTML(value='')))"
      ]
     },
     "metadata": {},
     "output_type": "display_data"
    },
    {
     "name": "stdout",
     "output_type": "stream",
     "text": [
      "\n",
      "For the categories: Electronics Prime_Pantry\n",
      "This category is recommended:  Luxury_Beauty\n"
     ]
    },
    {
     "data": {
      "application/vnd.jupyter.widget-view+json": {
       "model_id": "c0e142864ec04af3abe30370fc3b8a98",
       "version_major": 2,
       "version_minor": 0
      },
      "text/plain": [
       "HBox(children=(FloatProgress(value=0.0, max=20.0), HTML(value='')))"
      ]
     },
     "metadata": {},
     "output_type": "display_data"
    },
    {
     "name": "stdout",
     "output_type": "stream",
     "text": [
      "\n",
      "For the categories: Electronics Sports_and_Outdoors\n",
      "This category is recommended:  Patio_Lawn_and_Garden\n"
     ]
    },
    {
     "data": {
      "application/vnd.jupyter.widget-view+json": {
       "model_id": "7467cbd370c64a319e7951ce2c7be710",
       "version_major": 2,
       "version_minor": 0
      },
      "text/plain": [
       "HBox(children=(FloatProgress(value=0.0, max=20.0), HTML(value='')))"
      ]
     },
     "metadata": {},
     "output_type": "display_data"
    },
    {
     "name": "stdout",
     "output_type": "stream",
     "text": [
      "\n",
      "For the categories: Electronics Tools_and_Home_Improvement\n",
      "This category is recommended:  Grocery_and_Gourmet_Food\n"
     ]
    },
    {
     "data": {
      "application/vnd.jupyter.widget-view+json": {
       "model_id": "437dd5c33c374361b1bb10e698b5a9b3",
       "version_major": 2,
       "version_minor": 0
      },
      "text/plain": [
       "HBox(children=(FloatProgress(value=0.0, max=20.0), HTML(value='')))"
      ]
     },
     "metadata": {},
     "output_type": "display_data"
    },
    {
     "name": "stdout",
     "output_type": "stream",
     "text": [
      "\n",
      "For the categories: Electronics Toys_and_Games\n",
      "This category is recommended:  Grocery_and_Gourmet_Food\n"
     ]
    },
    {
     "data": {
      "application/vnd.jupyter.widget-view+json": {
       "model_id": "e204ca87cd5e4570b0df63f49bffbf13",
       "version_major": 2,
       "version_minor": 0
      },
      "text/plain": [
       "HBox(children=(FloatProgress(value=0.0, max=20.0), HTML(value='')))"
      ]
     },
     "metadata": {},
     "output_type": "display_data"
    },
    {
     "name": "stdout",
     "output_type": "stream",
     "text": [
      "\n",
      "For the categories: Electronics Video_Games\n",
      "This category is recommended:  Luxury_Beauty\n"
     ]
    },
    {
     "data": {
      "application/vnd.jupyter.widget-view+json": {
       "model_id": "2a8582b1fba445a583a1ef0800e08d98",
       "version_major": 2,
       "version_minor": 0
      },
      "text/plain": [
       "HBox(children=(FloatProgress(value=0.0, max=20.0), HTML(value='')))"
      ]
     },
     "metadata": {},
     "output_type": "display_data"
    },
    {
     "name": "stdout",
     "output_type": "stream",
     "text": [
      "\n",
      "For the categories: Grocery_and_Gourmet_Food Home_and_Kitchen\n",
      "This category is recommended:  Automotive\n"
     ]
    },
    {
     "data": {
      "application/vnd.jupyter.widget-view+json": {
       "model_id": "14e2a54e20f248c5a9269055fb487120",
       "version_major": 2,
       "version_minor": 0
      },
      "text/plain": [
       "HBox(children=(FloatProgress(value=0.0, max=20.0), HTML(value='')))"
      ]
     },
     "metadata": {},
     "output_type": "display_data"
    },
    {
     "name": "stdout",
     "output_type": "stream",
     "text": [
      "\n",
      "For the categories: Grocery_and_Gourmet_Food Industrial_and_Scientific\n",
      "This category is recommended:  Luxury_Beauty\n"
     ]
    },
    {
     "data": {
      "application/vnd.jupyter.widget-view+json": {
       "model_id": "3a1e5b61caae4f11bb155a104b41a6fc",
       "version_major": 2,
       "version_minor": 0
      },
      "text/plain": [
       "HBox(children=(FloatProgress(value=0.0, max=20.0), HTML(value='')))"
      ]
     },
     "metadata": {},
     "output_type": "display_data"
    },
    {
     "name": "stdout",
     "output_type": "stream",
     "text": [
      "\n",
      "For the categories: Grocery_and_Gourmet_Food Kindle_Store\n",
      "This category is recommended:  Automotive\n"
     ]
    },
    {
     "data": {
      "application/vnd.jupyter.widget-view+json": {
       "model_id": "bd1e6385bb63480b931b61411bfab65b",
       "version_major": 2,
       "version_minor": 0
      },
      "text/plain": [
       "HBox(children=(FloatProgress(value=0.0, max=20.0), HTML(value='')))"
      ]
     },
     "metadata": {},
     "output_type": "display_data"
    },
    {
     "name": "stdout",
     "output_type": "stream",
     "text": [
      "\n",
      "For the categories: Grocery_and_Gourmet_Food Luxury_Beauty\n",
      "This category is recommended:  Automotive\n"
     ]
    },
    {
     "data": {
      "application/vnd.jupyter.widget-view+json": {
       "model_id": "b415299a561c4084b817d72622b7cf89",
       "version_major": 2,
       "version_minor": 0
      },
      "text/plain": [
       "HBox(children=(FloatProgress(value=0.0, max=20.0), HTML(value='')))"
      ]
     },
     "metadata": {},
     "output_type": "display_data"
    },
    {
     "name": "stdout",
     "output_type": "stream",
     "text": [
      "\n",
      "For the categories: Grocery_and_Gourmet_Food Movies_and_TV\n",
      "This category is recommended:  Automotive\n"
     ]
    },
    {
     "data": {
      "application/vnd.jupyter.widget-view+json": {
       "model_id": "7dbc5c594ee04e69b189cac15f449b44",
       "version_major": 2,
       "version_minor": 0
      },
      "text/plain": [
       "HBox(children=(FloatProgress(value=0.0, max=20.0), HTML(value='')))"
      ]
     },
     "metadata": {},
     "output_type": "display_data"
    },
    {
     "name": "stdout",
     "output_type": "stream",
     "text": [
      "\n",
      "For the categories: Grocery_and_Gourmet_Food Musical_Instruments\n",
      "This category is recommended:  Automotive\n"
     ]
    },
    {
     "data": {
      "application/vnd.jupyter.widget-view+json": {
       "model_id": "5079c97897ad48fdb50d31c601a638da",
       "version_major": 2,
       "version_minor": 0
      },
      "text/plain": [
       "HBox(children=(FloatProgress(value=0.0, max=20.0), HTML(value='')))"
      ]
     },
     "metadata": {},
     "output_type": "display_data"
    },
    {
     "name": "stdout",
     "output_type": "stream",
     "text": [
      "\n",
      "For the categories: Grocery_and_Gourmet_Food Patio_Lawn_and_Garden\n",
      "This category is recommended:  Sports_and_Outdoors\n"
     ]
    },
    {
     "data": {
      "application/vnd.jupyter.widget-view+json": {
       "model_id": "36b08e7fceb04d35ae9deda6f29b12cd",
       "version_major": 2,
       "version_minor": 0
      },
      "text/plain": [
       "HBox(children=(FloatProgress(value=0.0, max=20.0), HTML(value='')))"
      ]
     },
     "metadata": {},
     "output_type": "display_data"
    },
    {
     "name": "stdout",
     "output_type": "stream",
     "text": [
      "\n",
      "For the categories: Grocery_and_Gourmet_Food Prime_Pantry\n",
      "This category is recommended:  Automotive\n"
     ]
    },
    {
     "data": {
      "application/vnd.jupyter.widget-view+json": {
       "model_id": "64ae8dc5c5b4437fa4d049f620d6f781",
       "version_major": 2,
       "version_minor": 0
      },
      "text/plain": [
       "HBox(children=(FloatProgress(value=0.0, max=20.0), HTML(value='')))"
      ]
     },
     "metadata": {},
     "output_type": "display_data"
    },
    {
     "name": "stdout",
     "output_type": "stream",
     "text": [
      "\n",
      "For the categories: Grocery_and_Gourmet_Food Sports_and_Outdoors\n",
      "This category is recommended:  Automotive\n"
     ]
    },
    {
     "data": {
      "application/vnd.jupyter.widget-view+json": {
       "model_id": "833d6ed1a8394f55a8061b40b0cf71e5",
       "version_major": 2,
       "version_minor": 0
      },
      "text/plain": [
       "HBox(children=(FloatProgress(value=0.0, max=20.0), HTML(value='')))"
      ]
     },
     "metadata": {},
     "output_type": "display_data"
    },
    {
     "name": "stdout",
     "output_type": "stream",
     "text": [
      "\n",
      "For the categories: Grocery_and_Gourmet_Food Tools_and_Home_Improvement\n",
      "This category is recommended:  Toys_and_Games\n"
     ]
    },
    {
     "data": {
      "application/vnd.jupyter.widget-view+json": {
       "model_id": "cb48eed69529483ab91918aa01acba30",
       "version_major": 2,
       "version_minor": 0
      },
      "text/plain": [
       "HBox(children=(FloatProgress(value=0.0, max=20.0), HTML(value='')))"
      ]
     },
     "metadata": {},
     "output_type": "display_data"
    },
    {
     "name": "stdout",
     "output_type": "stream",
     "text": [
      "\n",
      "For the categories: Grocery_and_Gourmet_Food Toys_and_Games\n",
      "This category is recommended:  Tools_and_Home_Improvement\n"
     ]
    },
    {
     "data": {
      "application/vnd.jupyter.widget-view+json": {
       "model_id": "0ff903d368074342be76a47b1b0400a8",
       "version_major": 2,
       "version_minor": 0
      },
      "text/plain": [
       "HBox(children=(FloatProgress(value=0.0, max=20.0), HTML(value='')))"
      ]
     },
     "metadata": {},
     "output_type": "display_data"
    },
    {
     "name": "stdout",
     "output_type": "stream",
     "text": [
      "\n",
      "For the categories: Grocery_and_Gourmet_Food Video_Games\n",
      "This category is recommended:  Automotive\n"
     ]
    },
    {
     "data": {
      "application/vnd.jupyter.widget-view+json": {
       "model_id": "0c35f465c2354c06a077a865b9b2b36f",
       "version_major": 2,
       "version_minor": 0
      },
      "text/plain": [
       "HBox(children=(FloatProgress(value=0.0, max=20.0), HTML(value='')))"
      ]
     },
     "metadata": {},
     "output_type": "display_data"
    },
    {
     "name": "stdout",
     "output_type": "stream",
     "text": [
      "\n",
      "For the categories: Home_and_Kitchen Industrial_and_Scientific\n",
      "This category is recommended:  Kindle_Store\n"
     ]
    },
    {
     "data": {
      "application/vnd.jupyter.widget-view+json": {
       "model_id": "f70a587b61194c64b61a78d84dafa149",
       "version_major": 2,
       "version_minor": 0
      },
      "text/plain": [
       "HBox(children=(FloatProgress(value=0.0, max=20.0), HTML(value='')))"
      ]
     },
     "metadata": {},
     "output_type": "display_data"
    },
    {
     "name": "stdout",
     "output_type": "stream",
     "text": [
      "\n",
      "For the categories: Home_and_Kitchen Kindle_Store\n",
      "This category is recommended:  Automotive\n"
     ]
    },
    {
     "data": {
      "application/vnd.jupyter.widget-view+json": {
       "model_id": "465f720fc2354544889c507b3ffe4474",
       "version_major": 2,
       "version_minor": 0
      },
      "text/plain": [
       "HBox(children=(FloatProgress(value=0.0, max=20.0), HTML(value='')))"
      ]
     },
     "metadata": {},
     "output_type": "display_data"
    },
    {
     "name": "stdout",
     "output_type": "stream",
     "text": [
      "\n",
      "For the categories: Home_and_Kitchen Luxury_Beauty\n",
      "This category is recommended:  Automotive\n"
     ]
    },
    {
     "data": {
      "application/vnd.jupyter.widget-view+json": {
       "model_id": "8028d86412564a2496db260b8d48df94",
       "version_major": 2,
       "version_minor": 0
      },
      "text/plain": [
       "HBox(children=(FloatProgress(value=0.0, max=20.0), HTML(value='')))"
      ]
     },
     "metadata": {},
     "output_type": "display_data"
    },
    {
     "name": "stdout",
     "output_type": "stream",
     "text": [
      "\n",
      "For the categories: Home_and_Kitchen Movies_and_TV\n",
      "This category is recommended:  Automotive\n"
     ]
    },
    {
     "data": {
      "application/vnd.jupyter.widget-view+json": {
       "model_id": "fa595a9717444799aad65959532995fa",
       "version_major": 2,
       "version_minor": 0
      },
      "text/plain": [
       "HBox(children=(FloatProgress(value=0.0, max=20.0), HTML(value='')))"
      ]
     },
     "metadata": {},
     "output_type": "display_data"
    },
    {
     "name": "stdout",
     "output_type": "stream",
     "text": [
      "\n",
      "For the categories: Home_and_Kitchen Musical_Instruments\n",
      "This category is recommended:  Automotive\n"
     ]
    },
    {
     "data": {
      "application/vnd.jupyter.widget-view+json": {
       "model_id": "0ac0576d2d4f48a180a2d514d5f86101",
       "version_major": 2,
       "version_minor": 0
      },
      "text/plain": [
       "HBox(children=(FloatProgress(value=0.0, max=20.0), HTML(value='')))"
      ]
     },
     "metadata": {},
     "output_type": "display_data"
    },
    {
     "name": "stdout",
     "output_type": "stream",
     "text": [
      "\n",
      "For the categories: Home_and_Kitchen Patio_Lawn_and_Garden\n",
      "This category is recommended:  Sports_and_Outdoors\n"
     ]
    },
    {
     "data": {
      "application/vnd.jupyter.widget-view+json": {
       "model_id": "c94e9e8665e9430f9b7e434bebdda208",
       "version_major": 2,
       "version_minor": 0
      },
      "text/plain": [
       "HBox(children=(FloatProgress(value=0.0, max=20.0), HTML(value='')))"
      ]
     },
     "metadata": {},
     "output_type": "display_data"
    },
    {
     "name": "stdout",
     "output_type": "stream",
     "text": [
      "\n",
      "For the categories: Home_and_Kitchen Prime_Pantry\n",
      "This category is recommended:  Automotive\n"
     ]
    },
    {
     "data": {
      "application/vnd.jupyter.widget-view+json": {
       "model_id": "a60aa54604ef4ea5a51d2e2e4b66cbc6",
       "version_major": 2,
       "version_minor": 0
      },
      "text/plain": [
       "HBox(children=(FloatProgress(value=0.0, max=20.0), HTML(value='')))"
      ]
     },
     "metadata": {},
     "output_type": "display_data"
    },
    {
     "name": "stdout",
     "output_type": "stream",
     "text": [
      "\n",
      "For the categories: Home_and_Kitchen Sports_and_Outdoors\n",
      "This category is recommended:  Automotive\n"
     ]
    },
    {
     "data": {
      "application/vnd.jupyter.widget-view+json": {
       "model_id": "ecff3ba6717b486f920769e740de220a",
       "version_major": 2,
       "version_minor": 0
      },
      "text/plain": [
       "HBox(children=(FloatProgress(value=0.0, max=20.0), HTML(value='')))"
      ]
     },
     "metadata": {},
     "output_type": "display_data"
    },
    {
     "name": "stdout",
     "output_type": "stream",
     "text": [
      "\n",
      "For the categories: Home_and_Kitchen Tools_and_Home_Improvement\n",
      "This category is recommended:  Cell_Phones_and_Accessories\n"
     ]
    },
    {
     "data": {
      "application/vnd.jupyter.widget-view+json": {
       "model_id": "7b80ff04b38747c8a6122ad2ebce5d82",
       "version_major": 2,
       "version_minor": 0
      },
      "text/plain": [
       "HBox(children=(FloatProgress(value=0.0, max=20.0), HTML(value='')))"
      ]
     },
     "metadata": {},
     "output_type": "display_data"
    },
    {
     "name": "stdout",
     "output_type": "stream",
     "text": [
      "\n",
      "For the categories: Home_and_Kitchen Toys_and_Games\n",
      "This category is recommended:  Automotive\n"
     ]
    },
    {
     "data": {
      "application/vnd.jupyter.widget-view+json": {
       "model_id": "8b0584145920445a8a24377483b81aeb",
       "version_major": 2,
       "version_minor": 0
      },
      "text/plain": [
       "HBox(children=(FloatProgress(value=0.0, max=20.0), HTML(value='')))"
      ]
     },
     "metadata": {},
     "output_type": "display_data"
    },
    {
     "name": "stdout",
     "output_type": "stream",
     "text": [
      "\n",
      "For the categories: Home_and_Kitchen Video_Games\n",
      "This category is recommended:  Automotive\n"
     ]
    },
    {
     "data": {
      "application/vnd.jupyter.widget-view+json": {
       "model_id": "31cf3a4a28e746529c445f3f75b289a3",
       "version_major": 2,
       "version_minor": 0
      },
      "text/plain": [
       "HBox(children=(FloatProgress(value=0.0, max=20.0), HTML(value='')))"
      ]
     },
     "metadata": {},
     "output_type": "display_data"
    },
    {
     "name": "stdout",
     "output_type": "stream",
     "text": [
      "\n",
      "For the categories: Industrial_and_Scientific Kindle_Store\n",
      "This category is recommended:  Clothing_Shoes_and_Jewelry\n"
     ]
    },
    {
     "data": {
      "application/vnd.jupyter.widget-view+json": {
       "model_id": "a2a2d83f744744d5808dbcaffd652332",
       "version_major": 2,
       "version_minor": 0
      },
      "text/plain": [
       "HBox(children=(FloatProgress(value=0.0, max=20.0), HTML(value='')))"
      ]
     },
     "metadata": {},
     "output_type": "display_data"
    },
    {
     "name": "stdout",
     "output_type": "stream",
     "text": [
      "\n",
      "For the categories: Industrial_and_Scientific Luxury_Beauty\n",
      "This category is recommended:  Clothing_Shoes_and_Jewelry\n"
     ]
    },
    {
     "data": {
      "application/vnd.jupyter.widget-view+json": {
       "model_id": "642971b3ae1c479791fc84f403ba095a",
       "version_major": 2,
       "version_minor": 0
      },
      "text/plain": [
       "HBox(children=(FloatProgress(value=0.0, max=20.0), HTML(value='')))"
      ]
     },
     "metadata": {},
     "output_type": "display_data"
    },
    {
     "name": "stdout",
     "output_type": "stream",
     "text": [
      "\n",
      "For the categories: Industrial_and_Scientific Movies_and_TV\n",
      "This category is recommended:  Kindle_Store\n"
     ]
    },
    {
     "data": {
      "application/vnd.jupyter.widget-view+json": {
       "model_id": "085e9a799ac24cfe9030c66985e5a855",
       "version_major": 2,
       "version_minor": 0
      },
      "text/plain": [
       "HBox(children=(FloatProgress(value=0.0, max=20.0), HTML(value='')))"
      ]
     },
     "metadata": {},
     "output_type": "display_data"
    },
    {
     "name": "stdout",
     "output_type": "stream",
     "text": [
      "\n",
      "For the categories: Industrial_and_Scientific Musical_Instruments\n",
      "This category is recommended:  Kindle_Store\n"
     ]
    },
    {
     "data": {
      "application/vnd.jupyter.widget-view+json": {
       "model_id": "b0e61e55f5ad4250bd59826d6092c55d",
       "version_major": 2,
       "version_minor": 0
      },
      "text/plain": [
       "HBox(children=(FloatProgress(value=0.0, max=20.0), HTML(value='')))"
      ]
     },
     "metadata": {},
     "output_type": "display_data"
    },
    {
     "name": "stdout",
     "output_type": "stream",
     "text": [
      "\n",
      "For the categories: Industrial_and_Scientific Patio_Lawn_and_Garden\n",
      "This category is recommended:  Movies_and_TV\n"
     ]
    },
    {
     "data": {
      "application/vnd.jupyter.widget-view+json": {
       "model_id": "a687a93be87441bfbb13e74bca7495f0",
       "version_major": 2,
       "version_minor": 0
      },
      "text/plain": [
       "HBox(children=(FloatProgress(value=0.0, max=20.0), HTML(value='')))"
      ]
     },
     "metadata": {},
     "output_type": "display_data"
    },
    {
     "name": "stdout",
     "output_type": "stream",
     "text": [
      "\n",
      "For the categories: Industrial_and_Scientific Prime_Pantry\n",
      "This category is recommended:  Clothing_Shoes_and_Jewelry\n"
     ]
    },
    {
     "data": {
      "application/vnd.jupyter.widget-view+json": {
       "model_id": "d940c546d74445bb971f5f42855c12fe",
       "version_major": 2,
       "version_minor": 0
      },
      "text/plain": [
       "HBox(children=(FloatProgress(value=0.0, max=20.0), HTML(value='')))"
      ]
     },
     "metadata": {},
     "output_type": "display_data"
    },
    {
     "name": "stdout",
     "output_type": "stream",
     "text": [
      "\n",
      "For the categories: Industrial_and_Scientific Sports_and_Outdoors\n",
      "This category is recommended:  Luxury_Beauty\n"
     ]
    },
    {
     "data": {
      "application/vnd.jupyter.widget-view+json": {
       "model_id": "137969f343f44a44b9bc16bbf77f7cac",
       "version_major": 2,
       "version_minor": 0
      },
      "text/plain": [
       "HBox(children=(FloatProgress(value=0.0, max=20.0), HTML(value='')))"
      ]
     },
     "metadata": {},
     "output_type": "display_data"
    },
    {
     "name": "stdout",
     "output_type": "stream",
     "text": [
      "\n",
      "For the categories: Industrial_and_Scientific Tools_and_Home_Improvement\n",
      "This category is recommended:  Clothing_Shoes_and_Jewelry\n"
     ]
    },
    {
     "data": {
      "application/vnd.jupyter.widget-view+json": {
       "model_id": "287f359843ca463b9b1d476befb0b21e",
       "version_major": 2,
       "version_minor": 0
      },
      "text/plain": [
       "HBox(children=(FloatProgress(value=0.0, max=20.0), HTML(value='')))"
      ]
     },
     "metadata": {},
     "output_type": "display_data"
    },
    {
     "name": "stdout",
     "output_type": "stream",
     "text": [
      "\n",
      "For the categories: Industrial_and_Scientific Toys_and_Games\n",
      "This category is recommended:  Luxury_Beauty\n"
     ]
    },
    {
     "data": {
      "application/vnd.jupyter.widget-view+json": {
       "model_id": "5e35c35d33b3442fb3fbdc5f7113dfc0",
       "version_major": 2,
       "version_minor": 0
      },
      "text/plain": [
       "HBox(children=(FloatProgress(value=0.0, max=20.0), HTML(value='')))"
      ]
     },
     "metadata": {},
     "output_type": "display_data"
    },
    {
     "name": "stdout",
     "output_type": "stream",
     "text": [
      "\n",
      "For the categories: Industrial_and_Scientific Video_Games\n",
      "This category is recommended:  Luxury_Beauty\n"
     ]
    },
    {
     "data": {
      "application/vnd.jupyter.widget-view+json": {
       "model_id": "e4ddb3e2404d489ea05d01771f61c834",
       "version_major": 2,
       "version_minor": 0
      },
      "text/plain": [
       "HBox(children=(FloatProgress(value=0.0, max=20.0), HTML(value='')))"
      ]
     },
     "metadata": {},
     "output_type": "display_data"
    },
    {
     "name": "stdout",
     "output_type": "stream",
     "text": [
      "\n",
      "For the categories: Kindle_Store Luxury_Beauty\n",
      "This category is recommended:  Automotive\n"
     ]
    },
    {
     "data": {
      "application/vnd.jupyter.widget-view+json": {
       "model_id": "7317f98759dd4c08a21693135859d386",
       "version_major": 2,
       "version_minor": 0
      },
      "text/plain": [
       "HBox(children=(FloatProgress(value=0.0, max=20.0), HTML(value='')))"
      ]
     },
     "metadata": {},
     "output_type": "display_data"
    },
    {
     "name": "stdout",
     "output_type": "stream",
     "text": [
      "\n",
      "For the categories: Kindle_Store Movies_and_TV\n",
      "This category is recommended:  Tools_and_Home_Improvement\n"
     ]
    },
    {
     "data": {
      "application/vnd.jupyter.widget-view+json": {
       "model_id": "cdd8081071964b938abd2b71600fef39",
       "version_major": 2,
       "version_minor": 0
      },
      "text/plain": [
       "HBox(children=(FloatProgress(value=0.0, max=20.0), HTML(value='')))"
      ]
     },
     "metadata": {},
     "output_type": "display_data"
    },
    {
     "name": "stdout",
     "output_type": "stream",
     "text": [
      "\n",
      "For the categories: Kindle_Store Musical_Instruments\n",
      "This category is recommended:  Luxury_Beauty\n"
     ]
    },
    {
     "data": {
      "application/vnd.jupyter.widget-view+json": {
       "model_id": "9dc8fa3701bf463db83a2fd575884346",
       "version_major": 2,
       "version_minor": 0
      },
      "text/plain": [
       "HBox(children=(FloatProgress(value=0.0, max=20.0), HTML(value='')))"
      ]
     },
     "metadata": {},
     "output_type": "display_data"
    },
    {
     "name": "stdout",
     "output_type": "stream",
     "text": [
      "\n",
      "For the categories: Kindle_Store Patio_Lawn_and_Garden\n",
      "This category is recommended:  Sports_and_Outdoors\n"
     ]
    },
    {
     "data": {
      "application/vnd.jupyter.widget-view+json": {
       "model_id": "82a2a94cf3404be6a2d6563b99dd6920",
       "version_major": 2,
       "version_minor": 0
      },
      "text/plain": [
       "HBox(children=(FloatProgress(value=0.0, max=20.0), HTML(value='')))"
      ]
     },
     "metadata": {},
     "output_type": "display_data"
    },
    {
     "name": "stdout",
     "output_type": "stream",
     "text": [
      "\n",
      "For the categories: Kindle_Store Prime_Pantry\n",
      "This category is recommended:  Luxury_Beauty\n"
     ]
    },
    {
     "data": {
      "application/vnd.jupyter.widget-view+json": {
       "model_id": "be2d4ae436f845fdb8bdbdd8362d3e6a",
       "version_major": 2,
       "version_minor": 0
      },
      "text/plain": [
       "HBox(children=(FloatProgress(value=0.0, max=20.0), HTML(value='')))"
      ]
     },
     "metadata": {},
     "output_type": "display_data"
    },
    {
     "name": "stdout",
     "output_type": "stream",
     "text": [
      "\n",
      "For the categories: Kindle_Store Sports_and_Outdoors\n",
      "This category is recommended:  Patio_Lawn_and_Garden\n"
     ]
    },
    {
     "data": {
      "application/vnd.jupyter.widget-view+json": {
       "model_id": "25701e66ccb24a53b2e1fb2a93977b01",
       "version_major": 2,
       "version_minor": 0
      },
      "text/plain": [
       "HBox(children=(FloatProgress(value=0.0, max=20.0), HTML(value='')))"
      ]
     },
     "metadata": {},
     "output_type": "display_data"
    },
    {
     "name": "stdout",
     "output_type": "stream",
     "text": [
      "\n",
      "For the categories: Kindle_Store Tools_and_Home_Improvement\n",
      "This category is recommended:  Grocery_and_Gourmet_Food\n"
     ]
    },
    {
     "data": {
      "application/vnd.jupyter.widget-view+json": {
       "model_id": "b046c823f41c464fbd6b2131004ed9a0",
       "version_major": 2,
       "version_minor": 0
      },
      "text/plain": [
       "HBox(children=(FloatProgress(value=0.0, max=20.0), HTML(value='')))"
      ]
     },
     "metadata": {},
     "output_type": "display_data"
    },
    {
     "name": "stdout",
     "output_type": "stream",
     "text": [
      "\n",
      "For the categories: Kindle_Store Toys_and_Games\n",
      "This category is recommended:  Tools_and_Home_Improvement\n"
     ]
    },
    {
     "data": {
      "application/vnd.jupyter.widget-view+json": {
       "model_id": "74a116635daa4fd284f46b23f29f5e3a",
       "version_major": 2,
       "version_minor": 0
      },
      "text/plain": [
       "HBox(children=(FloatProgress(value=0.0, max=20.0), HTML(value='')))"
      ]
     },
     "metadata": {},
     "output_type": "display_data"
    },
    {
     "name": "stdout",
     "output_type": "stream",
     "text": [
      "\n",
      "For the categories: Kindle_Store Video_Games\n",
      "This category is recommended:  Luxury_Beauty\n"
     ]
    },
    {
     "data": {
      "application/vnd.jupyter.widget-view+json": {
       "model_id": "68fcd66415cd4f99949fe574f264b2fd",
       "version_major": 2,
       "version_minor": 0
      },
      "text/plain": [
       "HBox(children=(FloatProgress(value=0.0, max=20.0), HTML(value='')))"
      ]
     },
     "metadata": {},
     "output_type": "display_data"
    },
    {
     "name": "stdout",
     "output_type": "stream",
     "text": [
      "\n",
      "For the categories: Luxury_Beauty Movies_and_TV\n",
      "This category is recommended:  Tools_and_Home_Improvement\n"
     ]
    },
    {
     "data": {
      "application/vnd.jupyter.widget-view+json": {
       "model_id": "5a25cd0e59714cdf8df53b7ffebe3215",
       "version_major": 2,
       "version_minor": 0
      },
      "text/plain": [
       "HBox(children=(FloatProgress(value=0.0, max=20.0), HTML(value='')))"
      ]
     },
     "metadata": {},
     "output_type": "display_data"
    },
    {
     "name": "stdout",
     "output_type": "stream",
     "text": [
      "\n",
      "For the categories: Luxury_Beauty Musical_Instruments\n",
      "This category is recommended:  Kindle_Store\n"
     ]
    },
    {
     "data": {
      "application/vnd.jupyter.widget-view+json": {
       "model_id": "15cfbb966e924553aac4b8599de16848",
       "version_major": 2,
       "version_minor": 0
      },
      "text/plain": [
       "HBox(children=(FloatProgress(value=0.0, max=20.0), HTML(value='')))"
      ]
     },
     "metadata": {},
     "output_type": "display_data"
    },
    {
     "name": "stdout",
     "output_type": "stream",
     "text": [
      "\n",
      "For the categories: Luxury_Beauty Patio_Lawn_and_Garden\n",
      "This category is recommended:  Sports_and_Outdoors\n"
     ]
    },
    {
     "data": {
      "application/vnd.jupyter.widget-view+json": {
       "model_id": "498f4a167ba84b649b930885a98d1d8b",
       "version_major": 2,
       "version_minor": 0
      },
      "text/plain": [
       "HBox(children=(FloatProgress(value=0.0, max=20.0), HTML(value='')))"
      ]
     },
     "metadata": {},
     "output_type": "display_data"
    },
    {
     "name": "stdout",
     "output_type": "stream",
     "text": [
      "\n",
      "For the categories: Luxury_Beauty Prime_Pantry\n",
      "This category is recommended:  Electronics\n"
     ]
    },
    {
     "data": {
      "application/vnd.jupyter.widget-view+json": {
       "model_id": "36cd03d5f4414e8d83e2f289b8060902",
       "version_major": 2,
       "version_minor": 0
      },
      "text/plain": [
       "HBox(children=(FloatProgress(value=0.0, max=20.0), HTML(value='')))"
      ]
     },
     "metadata": {},
     "output_type": "display_data"
    },
    {
     "name": "stdout",
     "output_type": "stream",
     "text": [
      "\n",
      "For the categories: Luxury_Beauty Sports_and_Outdoors\n",
      "This category is recommended:  Patio_Lawn_and_Garden\n"
     ]
    },
    {
     "data": {
      "application/vnd.jupyter.widget-view+json": {
       "model_id": "569209db20474b2ea5555fed0886d110",
       "version_major": 2,
       "version_minor": 0
      },
      "text/plain": [
       "HBox(children=(FloatProgress(value=0.0, max=20.0), HTML(value='')))"
      ]
     },
     "metadata": {},
     "output_type": "display_data"
    },
    {
     "name": "stdout",
     "output_type": "stream",
     "text": [
      "\n",
      "For the categories: Luxury_Beauty Tools_and_Home_Improvement\n",
      "This category is recommended:  Prime_Pantry\n"
     ]
    },
    {
     "data": {
      "application/vnd.jupyter.widget-view+json": {
       "model_id": "a3ed048096e24f22a8e04fd4d6b27ab0",
       "version_major": 2,
       "version_minor": 0
      },
      "text/plain": [
       "HBox(children=(FloatProgress(value=0.0, max=20.0), HTML(value='')))"
      ]
     },
     "metadata": {},
     "output_type": "display_data"
    },
    {
     "name": "stdout",
     "output_type": "stream",
     "text": [
      "\n",
      "For the categories: Luxury_Beauty Toys_and_Games\n",
      "This category is recommended:  Tools_and_Home_Improvement\n"
     ]
    },
    {
     "data": {
      "application/vnd.jupyter.widget-view+json": {
       "model_id": "3a0569fa77154bbca01f0e42fc8e7c63",
       "version_major": 2,
       "version_minor": 0
      },
      "text/plain": [
       "HBox(children=(FloatProgress(value=0.0, max=20.0), HTML(value='')))"
      ]
     },
     "metadata": {},
     "output_type": "display_data"
    },
    {
     "name": "stdout",
     "output_type": "stream",
     "text": [
      "\n",
      "For the categories: Luxury_Beauty Video_Games\n",
      "This category is recommended:  Automotive\n"
     ]
    },
    {
     "data": {
      "application/vnd.jupyter.widget-view+json": {
       "model_id": "3014b128106d4ecea872de887660d717",
       "version_major": 2,
       "version_minor": 0
      },
      "text/plain": [
       "HBox(children=(FloatProgress(value=0.0, max=20.0), HTML(value='')))"
      ]
     },
     "metadata": {},
     "output_type": "display_data"
    },
    {
     "name": "stdout",
     "output_type": "stream",
     "text": [
      "\n",
      "For the categories: Movies_and_TV Musical_Instruments\n",
      "This category is recommended:  Luxury_Beauty\n"
     ]
    },
    {
     "data": {
      "application/vnd.jupyter.widget-view+json": {
       "model_id": "8d5831e000e14f449af4becbccd31b45",
       "version_major": 2,
       "version_minor": 0
      },
      "text/plain": [
       "HBox(children=(FloatProgress(value=0.0, max=20.0), HTML(value='')))"
      ]
     },
     "metadata": {},
     "output_type": "display_data"
    },
    {
     "name": "stdout",
     "output_type": "stream",
     "text": [
      "\n",
      "For the categories: Movies_and_TV Patio_Lawn_and_Garden\n",
      "This category is recommended:  Sports_and_Outdoors\n"
     ]
    },
    {
     "data": {
      "application/vnd.jupyter.widget-view+json": {
       "model_id": "70b6f78058b545409473a871c8b4570d",
       "version_major": 2,
       "version_minor": 0
      },
      "text/plain": [
       "HBox(children=(FloatProgress(value=0.0, max=20.0), HTML(value='')))"
      ]
     },
     "metadata": {},
     "output_type": "display_data"
    },
    {
     "name": "stdout",
     "output_type": "stream",
     "text": [
      "\n",
      "For the categories: Movies_and_TV Prime_Pantry\n",
      "This category is recommended:  Tools_and_Home_Improvement\n"
     ]
    },
    {
     "data": {
      "application/vnd.jupyter.widget-view+json": {
       "model_id": "605426803aae40f0a93defec9d416613",
       "version_major": 2,
       "version_minor": 0
      },
      "text/plain": [
       "HBox(children=(FloatProgress(value=0.0, max=20.0), HTML(value='')))"
      ]
     },
     "metadata": {},
     "output_type": "display_data"
    },
    {
     "name": "stdout",
     "output_type": "stream",
     "text": [
      "\n",
      "For the categories: Movies_and_TV Sports_and_Outdoors\n",
      "This category is recommended:  Patio_Lawn_and_Garden\n"
     ]
    },
    {
     "data": {
      "application/vnd.jupyter.widget-view+json": {
       "model_id": "7231d05b57c24453bc689cd4dbf65269",
       "version_major": 2,
       "version_minor": 0
      },
      "text/plain": [
       "HBox(children=(FloatProgress(value=0.0, max=20.0), HTML(value='')))"
      ]
     },
     "metadata": {},
     "output_type": "display_data"
    },
    {
     "name": "stdout",
     "output_type": "stream",
     "text": [
      "\n",
      "For the categories: Movies_and_TV Tools_and_Home_Improvement\n",
      "This category is recommended:  Grocery_and_Gourmet_Food\n"
     ]
    },
    {
     "data": {
      "application/vnd.jupyter.widget-view+json": {
       "model_id": "118cebca90e0410c88e21c31875486c0",
       "version_major": 2,
       "version_minor": 0
      },
      "text/plain": [
       "HBox(children=(FloatProgress(value=0.0, max=20.0), HTML(value='')))"
      ]
     },
     "metadata": {},
     "output_type": "display_data"
    },
    {
     "name": "stdout",
     "output_type": "stream",
     "text": [
      "\n",
      "For the categories: Movies_and_TV Toys_and_Games\n",
      "This category is recommended:  Tools_and_Home_Improvement\n"
     ]
    },
    {
     "data": {
      "application/vnd.jupyter.widget-view+json": {
       "model_id": "5b227425e6ff4880a187dd7484fa20a5",
       "version_major": 2,
       "version_minor": 0
      },
      "text/plain": [
       "HBox(children=(FloatProgress(value=0.0, max=20.0), HTML(value='')))"
      ]
     },
     "metadata": {},
     "output_type": "display_data"
    },
    {
     "name": "stdout",
     "output_type": "stream",
     "text": [
      "\n",
      "For the categories: Movies_and_TV Video_Games\n",
      "This category is recommended:  Luxury_Beauty\n"
     ]
    },
    {
     "data": {
      "application/vnd.jupyter.widget-view+json": {
       "model_id": "32d1d9de85af4e81ac282f5ef451bfcc",
       "version_major": 2,
       "version_minor": 0
      },
      "text/plain": [
       "HBox(children=(FloatProgress(value=0.0, max=20.0), HTML(value='')))"
      ]
     },
     "metadata": {},
     "output_type": "display_data"
    },
    {
     "name": "stdout",
     "output_type": "stream",
     "text": [
      "\n",
      "For the categories: Musical_Instruments Patio_Lawn_and_Garden\n",
      "This category is recommended:  Sports_and_Outdoors\n"
     ]
    },
    {
     "data": {
      "application/vnd.jupyter.widget-view+json": {
       "model_id": "525307e705354d9792ba7f17d827390b",
       "version_major": 2,
       "version_minor": 0
      },
      "text/plain": [
       "HBox(children=(FloatProgress(value=0.0, max=20.0), HTML(value='')))"
      ]
     },
     "metadata": {},
     "output_type": "display_data"
    },
    {
     "name": "stdout",
     "output_type": "stream",
     "text": [
      "\n",
      "For the categories: Musical_Instruments Prime_Pantry\n",
      "This category is recommended:  Automotive\n"
     ]
    },
    {
     "data": {
      "application/vnd.jupyter.widget-view+json": {
       "model_id": "f8a9d2181a53494990a697214a1613fd",
       "version_major": 2,
       "version_minor": 0
      },
      "text/plain": [
       "HBox(children=(FloatProgress(value=0.0, max=20.0), HTML(value='')))"
      ]
     },
     "metadata": {},
     "output_type": "display_data"
    },
    {
     "name": "stdout",
     "output_type": "stream",
     "text": [
      "\n",
      "For the categories: Musical_Instruments Sports_and_Outdoors\n",
      "This category is recommended:  Patio_Lawn_and_Garden\n"
     ]
    },
    {
     "data": {
      "application/vnd.jupyter.widget-view+json": {
       "model_id": "12c997f138024892b539238d11f92d40",
       "version_major": 2,
       "version_minor": 0
      },
      "text/plain": [
       "HBox(children=(FloatProgress(value=0.0, max=20.0), HTML(value='')))"
      ]
     },
     "metadata": {},
     "output_type": "display_data"
    },
    {
     "name": "stdout",
     "output_type": "stream",
     "text": [
      "\n",
      "For the categories: Musical_Instruments Tools_and_Home_Improvement\n",
      "This category is recommended:  Toys_and_Games\n"
     ]
    },
    {
     "data": {
      "application/vnd.jupyter.widget-view+json": {
       "model_id": "55724eb1a4cc493b95423047413e74b4",
       "version_major": 2,
       "version_minor": 0
      },
      "text/plain": [
       "HBox(children=(FloatProgress(value=0.0, max=20.0), HTML(value='')))"
      ]
     },
     "metadata": {},
     "output_type": "display_data"
    },
    {
     "name": "stdout",
     "output_type": "stream",
     "text": [
      "\n",
      "For the categories: Musical_Instruments Toys_and_Games\n",
      "This category is recommended:  Automotive\n"
     ]
    },
    {
     "data": {
      "application/vnd.jupyter.widget-view+json": {
       "model_id": "89867365c79a43a3858792f77032ed75",
       "version_major": 2,
       "version_minor": 0
      },
      "text/plain": [
       "HBox(children=(FloatProgress(value=0.0, max=20.0), HTML(value='')))"
      ]
     },
     "metadata": {},
     "output_type": "display_data"
    },
    {
     "name": "stdout",
     "output_type": "stream",
     "text": [
      "\n",
      "For the categories: Musical_Instruments Video_Games\n",
      "This category is recommended:  Kindle_Store\n"
     ]
    },
    {
     "data": {
      "application/vnd.jupyter.widget-view+json": {
       "model_id": "7b202454b9494dd29cb0724ee6560dac",
       "version_major": 2,
       "version_minor": 0
      },
      "text/plain": [
       "HBox(children=(FloatProgress(value=0.0, max=20.0), HTML(value='')))"
      ]
     },
     "metadata": {},
     "output_type": "display_data"
    },
    {
     "name": "stdout",
     "output_type": "stream",
     "text": [
      "\n",
      "For the categories: Patio_Lawn_and_Garden Prime_Pantry\n",
      "This category is recommended:  Sports_and_Outdoors\n"
     ]
    },
    {
     "data": {
      "application/vnd.jupyter.widget-view+json": {
       "model_id": "a6e99f672b764317a3dd6ae835dcbee4",
       "version_major": 2,
       "version_minor": 0
      },
      "text/plain": [
       "HBox(children=(FloatProgress(value=0.0, max=20.0), HTML(value='')))"
      ]
     },
     "metadata": {},
     "output_type": "display_data"
    },
    {
     "name": "stdout",
     "output_type": "stream",
     "text": [
      "\n",
      "For the categories: Patio_Lawn_and_Garden Sports_and_Outdoors\n",
      "This category is recommended:  Toys_and_Games\n"
     ]
    },
    {
     "data": {
      "application/vnd.jupyter.widget-view+json": {
       "model_id": "ca9552f907034b66bf14308b16a5a02a",
       "version_major": 2,
       "version_minor": 0
      },
      "text/plain": [
       "HBox(children=(FloatProgress(value=0.0, max=20.0), HTML(value='')))"
      ]
     },
     "metadata": {},
     "output_type": "display_data"
    },
    {
     "name": "stdout",
     "output_type": "stream",
     "text": [
      "\n",
      "For the categories: Patio_Lawn_and_Garden Tools_and_Home_Improvement\n",
      "This category is recommended:  Toys_and_Games\n"
     ]
    },
    {
     "data": {
      "application/vnd.jupyter.widget-view+json": {
       "model_id": "4997a782b6d6484ab063a50106014dd2",
       "version_major": 2,
       "version_minor": 0
      },
      "text/plain": [
       "HBox(children=(FloatProgress(value=0.0, max=20.0), HTML(value='')))"
      ]
     },
     "metadata": {},
     "output_type": "display_data"
    },
    {
     "name": "stdout",
     "output_type": "stream",
     "text": [
      "\n",
      "For the categories: Patio_Lawn_and_Garden Toys_and_Games\n",
      "This category is recommended:  Sports_and_Outdoors\n"
     ]
    },
    {
     "data": {
      "application/vnd.jupyter.widget-view+json": {
       "model_id": "6e31d7c750e04d0b8eee38aa8731f560",
       "version_major": 2,
       "version_minor": 0
      },
      "text/plain": [
       "HBox(children=(FloatProgress(value=0.0, max=20.0), HTML(value='')))"
      ]
     },
     "metadata": {},
     "output_type": "display_data"
    },
    {
     "name": "stdout",
     "output_type": "stream",
     "text": [
      "\n",
      "For the categories: Patio_Lawn_and_Garden Video_Games\n",
      "This category is recommended:  Sports_and_Outdoors\n"
     ]
    },
    {
     "data": {
      "application/vnd.jupyter.widget-view+json": {
       "model_id": "429d4a8cd41d49f5b741ad875ad83ab4",
       "version_major": 2,
       "version_minor": 0
      },
      "text/plain": [
       "HBox(children=(FloatProgress(value=0.0, max=20.0), HTML(value='')))"
      ]
     },
     "metadata": {},
     "output_type": "display_data"
    },
    {
     "name": "stdout",
     "output_type": "stream",
     "text": [
      "\n",
      "For the categories: Prime_Pantry Sports_and_Outdoors\n",
      "This category is recommended:  Luxury_Beauty\n"
     ]
    },
    {
     "data": {
      "application/vnd.jupyter.widget-view+json": {
       "model_id": "06d77f9043c0429aa9bbd3caaa29d3ff",
       "version_major": 2,
       "version_minor": 0
      },
      "text/plain": [
       "HBox(children=(FloatProgress(value=0.0, max=20.0), HTML(value='')))"
      ]
     },
     "metadata": {},
     "output_type": "display_data"
    },
    {
     "name": "stdout",
     "output_type": "stream",
     "text": [
      "\n",
      "For the categories: Prime_Pantry Tools_and_Home_Improvement\n",
      "This category is recommended:  Clothing_Shoes_and_Jewelry\n"
     ]
    },
    {
     "data": {
      "application/vnd.jupyter.widget-view+json": {
       "model_id": "41011f5c1f9c46f1bb9f5c59873febb6",
       "version_major": 2,
       "version_minor": 0
      },
      "text/plain": [
       "HBox(children=(FloatProgress(value=0.0, max=20.0), HTML(value='')))"
      ]
     },
     "metadata": {},
     "output_type": "display_data"
    },
    {
     "name": "stdout",
     "output_type": "stream",
     "text": [
      "\n",
      "For the categories: Prime_Pantry Toys_and_Games\n",
      "This category is recommended:  Tools_and_Home_Improvement\n"
     ]
    },
    {
     "data": {
      "application/vnd.jupyter.widget-view+json": {
       "model_id": "52519bb379c249f7b306917715b52214",
       "version_major": 2,
       "version_minor": 0
      },
      "text/plain": [
       "HBox(children=(FloatProgress(value=0.0, max=20.0), HTML(value='')))"
      ]
     },
     "metadata": {},
     "output_type": "display_data"
    },
    {
     "name": "stdout",
     "output_type": "stream",
     "text": [
      "\n",
      "For the categories: Prime_Pantry Video_Games\n",
      "This category is recommended:  Luxury_Beauty\n"
     ]
    },
    {
     "data": {
      "application/vnd.jupyter.widget-view+json": {
       "model_id": "769f6c09f0d74f558db1c835e16e3a88",
       "version_major": 2,
       "version_minor": 0
      },
      "text/plain": [
       "HBox(children=(FloatProgress(value=0.0, max=20.0), HTML(value='')))"
      ]
     },
     "metadata": {},
     "output_type": "display_data"
    },
    {
     "name": "stdout",
     "output_type": "stream",
     "text": [
      "\n",
      "For the categories: Sports_and_Outdoors Tools_and_Home_Improvement\n",
      "This category is recommended:  Grocery_and_Gourmet_Food\n"
     ]
    },
    {
     "data": {
      "application/vnd.jupyter.widget-view+json": {
       "model_id": "03b7cc7af2dd4e809021d7a6a3d92048",
       "version_major": 2,
       "version_minor": 0
      },
      "text/plain": [
       "HBox(children=(FloatProgress(value=0.0, max=20.0), HTML(value='')))"
      ]
     },
     "metadata": {},
     "output_type": "display_data"
    },
    {
     "name": "stdout",
     "output_type": "stream",
     "text": [
      "\n",
      "For the categories: Sports_and_Outdoors Toys_and_Games\n",
      "This category is recommended:  Patio_Lawn_and_Garden\n"
     ]
    },
    {
     "data": {
      "application/vnd.jupyter.widget-view+json": {
       "model_id": "d0d71d9964ae480ba70117ceb69ecc8a",
       "version_major": 2,
       "version_minor": 0
      },
      "text/plain": [
       "HBox(children=(FloatProgress(value=0.0, max=20.0), HTML(value='')))"
      ]
     },
     "metadata": {},
     "output_type": "display_data"
    },
    {
     "name": "stdout",
     "output_type": "stream",
     "text": [
      "\n",
      "For the categories: Sports_and_Outdoors Video_Games\n",
      "This category is recommended:  Grocery_and_Gourmet_Food\n"
     ]
    },
    {
     "data": {
      "application/vnd.jupyter.widget-view+json": {
       "model_id": "cde2081b7de746e896713972ac726ef6",
       "version_major": 2,
       "version_minor": 0
      },
      "text/plain": [
       "HBox(children=(FloatProgress(value=0.0, max=20.0), HTML(value='')))"
      ]
     },
     "metadata": {},
     "output_type": "display_data"
    },
    {
     "name": "stdout",
     "output_type": "stream",
     "text": [
      "\n",
      "For the categories: Tools_and_Home_Improvement Toys_and_Games\n",
      "This category is recommended:  Grocery_and_Gourmet_Food\n"
     ]
    },
    {
     "data": {
      "application/vnd.jupyter.widget-view+json": {
       "model_id": "867ca8b2c2544aab8e95f00789c1af7a",
       "version_major": 2,
       "version_minor": 0
      },
      "text/plain": [
       "HBox(children=(FloatProgress(value=0.0, max=20.0), HTML(value='')))"
      ]
     },
     "metadata": {},
     "output_type": "display_data"
    },
    {
     "name": "stdout",
     "output_type": "stream",
     "text": [
      "\n",
      "For the categories: Tools_and_Home_Improvement Video_Games\n",
      "This category is recommended:  Grocery_and_Gourmet_Food\n"
     ]
    },
    {
     "data": {
      "application/vnd.jupyter.widget-view+json": {
       "model_id": "13d9e0f11c8448bda503f09692d6a542",
       "version_major": 2,
       "version_minor": 0
      },
      "text/plain": [
       "HBox(children=(FloatProgress(value=0.0, max=20.0), HTML(value='')))"
      ]
     },
     "metadata": {},
     "output_type": "display_data"
    },
    {
     "name": "stdout",
     "output_type": "stream",
     "text": [
      "\n",
      "For the categories: Toys_and_Games Video_Games\n",
      "This category is recommended:  Tools_and_Home_Improvement\n"
     ]
    }
   ],
   "source": [
    "#add a fake reviewer to the dataset\n",
    "lookup_table_2 = combination_list\n",
    "print(\"Number of Combinations \", len(combination_list))\n",
    "for idx, combi in enumerate(combination_list):\n",
    "    \n",
    "    df_grouped_added = df_grouped;\n",
    "    \n",
    "    #add fake reviewer to the dataset\n",
    "    df_grouped_added = df_grouped_added.append({'category': combi[0], 'reviewer': 'combination'+str(idx+1), 'purchases': 4}, ignore_index=True)\n",
    "    df_grouped_added = df_grouped_added.append({'category': combi[1], 'reviewer': 'combination'+str(idx+1), 'purchases': 4}, ignore_index=True)\n",
    "    \n",
    "    # Create a numeric reviewer_id and category_id column\n",
    "    df_grouped_added['reviewer'] = df_grouped_added['reviewer'].astype(\"category\")\n",
    "    df_grouped_added['category'] = df_grouped_added['category'].astype(\"category\")\n",
    "    df_grouped_added['reviewer_id'] = df_grouped_added['reviewer'].cat.codes\n",
    "    df_grouped_added['category_id'] = df_grouped_added['category'].cat.codes\n",
    "    \n",
    "    # The implicit library expects data as a item-user matrix two matricies are created, \n",
    "    #one for fitting the model (item-user) \n",
    "    # and one for recommendations (user-item)\n",
    "    sparse_item_user = sparse.csr_matrix((df_grouped_added['purchases'].astype(float), (df_grouped_added['category_id'].astype(np.int32), df_grouped_added['reviewer_id'].astype(np.int32))))\n",
    "    sparse_user_item = sparse.csr_matrix((df_grouped_added['purchases'].astype(float), (df_grouped_added['reviewer_id'].astype(np.int32), df_grouped_added['category_id'].astype(np.int32))))\n",
    "    \n",
    "    # Initialize the als model and fit it using the sparse item-user matrix\n",
    "    model = implicit.als.AlternatingLeastSquares(factors=32, regularization=0.1, iterations=20)\n",
    "    \n",
    "    # Calculate the confidence by multiplying it by our alpha value.\n",
    "    alpha_val = 15\n",
    "    data_conf = (sparse_item_user * alpha_val).astype('double')\n",
    "    \n",
    "    #Fit the model\n",
    "    model.fit(data_conf)\n",
    "    \n",
    "    #Recommend Category\n",
    "    print(\"For the categories:\", combi[0], combi[1])\n",
    "    \n",
    "    # Use the implicit recommender:\n",
    "    recommended = model.recommend(getIdByUser('combination'+str(idx+1)), sparse_user_item)\n",
    "    \n",
    "    print(\"This category is recommended: \", getCatById(recommended[0][0]))\n",
    "    \n",
    "    lookup_table_2[idx] = lookup_table_2[idx] + (getCatById(recommended[0][0]), )"
   ]
  },
  {
   "cell_type": "code",
   "execution_count": 23,
   "metadata": {
    "scrolled": true
   },
   "outputs": [],
   "source": [
    "#create dataframe of lockup table and export it\n",
    "df_lookUp = pd.DataFrame(list(lookup_table_2), columns=['category1','category2', 'recommended'])\n",
    "df_lookUp.head()\n",
    "df_lookUp.to_csv('lookUp_table.csv', index=False)"
   ]
  },
  {
   "cell_type": "code",
   "execution_count": null,
   "metadata": {},
   "outputs": [],
   "source": []
  }
 ],
 "metadata": {
  "kernelspec": {
   "display_name": "Python 3",
   "language": "python",
   "name": "python3"
  },
  "language_info": {
   "codemirror_mode": {
    "name": "ipython",
    "version": 3
   },
   "file_extension": ".py",
   "mimetype": "text/x-python",
   "name": "python",
   "nbconvert_exporter": "python",
   "pygments_lexer": "ipython3",
   "version": "3.8.3"
  }
 },
 "nbformat": 4,
 "nbformat_minor": 4
}