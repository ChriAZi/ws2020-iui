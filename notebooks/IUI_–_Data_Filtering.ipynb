{
 "nbformat": 4,
 "nbformat_minor": 0,
 "metadata": {
  "colab": {
   "name": "IUI – Data Filtering.ipynb",
   "provenance": [],
   "collapsed_sections": [],
   "toc_visible": true
  },
  "kernelspec": {
   "name": "python3",
   "display_name": "Python 3"
  }
 },
 "cells": [
  {
   "cell_type": "markdown",
   "metadata": {
    "id": "TTuceUwuRwxx"
   },
   "source": [
    "## Data Import"
   ]
  },
  {
   "cell_type": "markdown",
   "metadata": {
    "id": "zslFkIcGTLcd"
   },
   "source": [
    "### Imports"
   ]
  },
  {
   "cell_type": "code",
   "metadata": {
    "id": "QJOJd8LuR61T"
   },
   "source": [
    "import pandas as pd\n",
    "import os\n",
    "import json\n",
    "import gzip"
   ],
   "execution_count": null,
   "outputs": []
  },
  {
   "cell_type": "markdown",
   "metadata": {
    "id": "7WqirSs8TN9H"
   },
   "source": [
    "### Load data from URL"
   ]
  },
  {
   "cell_type": "code",
   "metadata": {
    "id": "0ytA8f4iTPYj",
    "colab": {
     "base_uri": "https://localhost:8080/"
    },
    "outputId": "f71a59e6-022b-4534-e78d-2ffbbb746fb6"
   },
   "source": [
    "!wget http://deepyeti.ucsd.edu/jianmo/amazon/categoryFilesSmall/AMAZON_FASHION_5.json.gz\n",
    "!wget http://deepyeti.ucsd.edu/jianmo/amazon/categoryFilesSmall/All_Beauty_5.json.gz\n",
    "!wget http://deepyeti.ucsd.edu/jianmo/amazon/categoryFilesSmall/Appliances_5.json.gz\n",
    "!wget http://deepyeti.ucsd.edu/jianmo/amazon/categoryFilesSmall/Arts_Crafts_and_Sewing_5.json.gz\n",
    "!wget http://deepyeti.ucsd.edu/jianmo/amazon/categoryFilesSmall/Automotive_5.json.gz\n",
    "!wget http://deepyeti.ucsd.edu/jianmo/amazon/categoryFilesSmall/CDs_and_Vinyl_5.json.gz\n",
    "!wget http://deepyeti.ucsd.edu/jianmo/amazon/categoryFilesSmall/Cell_Phones_and_Accessories_5.json.gz\n",
    "!wget http://deepyeti.ucsd.edu/jianmo/amazon/categoryFilesSmall/Clothing_Shoes_and_Jewelry_5.json.gz\n",
    "!wget http://deepyeti.ucsd.edu/jianmo/amazon/categoryFilesSmall/Digital_Music_5.json.gz\n",
    "!wget http://deepyeti.ucsd.edu/jianmo/amazon/categoryFilesSmall/Electronics_5.json.gz\n",
    "!wget http://deepyeti.ucsd.edu/jianmo/amazon/categoryFilesSmall/Gift_Cards_5.json.gz\n",
    "!wget http://deepyeti.ucsd.edu/jianmo/amazon/categoryFilesSmall/Grocery_and_Gourmet_Food_5.json.gz\n",
    "!wget http://deepyeti.ucsd.edu/jianmo/amazon/categoryFilesSmall/Home_and_Kitchen_5.json.gz\n",
    "!wget http://deepyeti.ucsd.edu/jianmo/amazon/categoryFilesSmall/Industrial_and_Scientific_5.json.gz\n",
    "!wget http://deepyeti.ucsd.edu/jianmo/amazon/categoryFilesSmall/Kindle_Store_5.json.gz\n",
    "!wget http://deepyeti.ucsd.edu/jianmo/amazon/categoryFilesSmall/Luxury_Beauty_5.json.gz\n",
    "!wget http://deepyeti.ucsd.edu/jianmo/amazon/categoryFilesSmall/Magazine_Subscriptions_5.json.gz\n",
    "!wget http://deepyeti.ucsd.edu/jianmo/amazon/categoryFilesSmall/Movies_and_TV_5.json.gz\n",
    "!wget http://deepyeti.ucsd.edu/jianmo/amazon/categoryFilesSmall/Musical_Instruments_5.json.gz\n",
    "!wget http://deepyeti.ucsd.edu/jianmo/amazon/categoryFilesSmall/Office_Products_5.json.gz\n",
    "!wget http://deepyeti.ucsd.edu/jianmo/amazon/categoryFilesSmall/Patio_Lawn_and_Garden_5.json.gz\n",
    "!wget http://deepyeti.ucsd.edu/jianmo/amazon/categoryFilesSmall/Pet_Supplies_5.json.gz\n",
    "!wget http://deepyeti.ucsd.edu/jianmo/amazon/categoryFilesSmall/Prime_Pantry_5.json.gz\n",
    "!wget http://deepyeti.ucsd.edu/jianmo/amazon/categoryFilesSmall/Software_5.json.gz\n",
    "!wget http://deepyeti.ucsd.edu/jianmo/amazon/categoryFilesSmall/Sports_and_Outdoors_5.json.gz\n",
    "!wget http://deepyeti.ucsd.edu/jianmo/amazon/categoryFilesSmall/Tools_and_Home_Improvement_5.json.gz\n",
    "!wget http://deepyeti.ucsd.edu/jianmo/amazon/categoryFilesSmall/Toys_and_Games_5.json.gz\n",
    "!wget http://deepyeti.ucsd.edu/jianmo/amazon/categoryFilesSmall/Video_Games_5.json.gz"
   ],
   "execution_count": null,
   "outputs": [
    {
     "output_type": "stream",
     "text": [
      "--2021-01-26 13:38:49--  http://deepyeti.ucsd.edu/jianmo/amazon/categoryFilesSmall/AMAZON_FASHION_5.json.gz\n",
      "Resolving deepyeti.ucsd.edu (deepyeti.ucsd.edu)... 169.228.63.50\n",
      "Connecting to deepyeti.ucsd.edu (deepyeti.ucsd.edu)|169.228.63.50|:80... connected.\n",
      "HTTP request sent, awaiting response... 200 OK\n",
      "Length: 287013 (280K) [application/octet-stream]\n",
      "Saving to: ‘AMAZON_FASHION_5.json.gz’\n",
      "\n",
      "AMAZON_FASHION_5.js 100%[===================>] 280.29K   466KB/s    in 0.6s    \n",
      "\n",
      "2021-01-26 13:38:50 (466 KB/s) - ‘AMAZON_FASHION_5.json.gz’ saved [287013/287013]\n",
      "\n",
      "--2021-01-26 13:38:50--  http://deepyeti.ucsd.edu/jianmo/amazon/categoryFilesSmall/All_Beauty_5.json.gz\n",
      "Resolving deepyeti.ucsd.edu (deepyeti.ucsd.edu)... 169.228.63.50\n",
      "Connecting to deepyeti.ucsd.edu (deepyeti.ucsd.edu)|169.228.63.50|:80... connected.\n",
      "HTTP request sent, awaiting response... 200 OK\n",
      "Length: 633507 (619K) [application/octet-stream]\n",
      "Saving to: ‘All_Beauty_5.json.gz’\n",
      "\n",
      "All_Beauty_5.json.g 100%[===================>] 618.66K   827KB/s    in 0.7s    \n",
      "\n",
      "2021-01-26 13:38:51 (827 KB/s) - ‘All_Beauty_5.json.gz’ saved [633507/633507]\n",
      "\n",
      "--2021-01-26 13:38:51--  http://deepyeti.ucsd.edu/jianmo/amazon/categoryFilesSmall/Appliances_5.json.gz\n",
      "Resolving deepyeti.ucsd.edu (deepyeti.ucsd.edu)... 169.228.63.50\n",
      "Connecting to deepyeti.ucsd.edu (deepyeti.ucsd.edu)|169.228.63.50|:80... connected.\n",
      "HTTP request sent, awaiting response... 200 OK\n",
      "Length: 72998 (71K) [application/octet-stream]\n",
      "Saving to: ‘Appliances_5.json.gz’\n",
      "\n",
      "Appliances_5.json.g 100%[===================>]  71.29K   240KB/s    in 0.3s    \n",
      "\n",
      "2021-01-26 13:38:52 (240 KB/s) - ‘Appliances_5.json.gz’ saved [72998/72998]\n",
      "\n",
      "--2021-01-26 13:38:52--  http://deepyeti.ucsd.edu/jianmo/amazon/categoryFilesSmall/Arts_Crafts_and_Sewing_5.json.gz\n",
      "Resolving deepyeti.ucsd.edu (deepyeti.ucsd.edu)... 169.228.63.50\n",
      "Connecting to deepyeti.ucsd.edu (deepyeti.ucsd.edu)|169.228.63.50|:80... connected.\n",
      "HTTP request sent, awaiting response... 200 OK\n",
      "Length: 53965563 (51M) [application/octet-stream]\n",
      "Saving to: ‘Arts_Crafts_and_Sewing_5.json.gz’\n",
      "\n",
      "          Arts_Craf   0%[                    ]       0  --.-KB/s               ^C\n",
      "--2021-01-26 13:38:52--  http://deepyeti.ucsd.edu/jianmo/amazon/categoryFilesSmall/Automotive_5.json.gz\n",
      "Resolving deepyeti.ucsd.edu (deepyeti.ucsd.edu)... 169.228.63.50\n",
      "Connecting to deepyeti.ucsd.edu (deepyeti.ucsd.edu)|169.228.63.50|:80... connected.\n",
      "HTTP request sent, awaiting response... 200 OK\n",
      "Length: 202890818 (193M) [application/octet-stream]\n",
      "Saving to: ‘Automotive_5.json.gz’\n",
      "\n",
      "Automotive_5.json.g   0%[                    ]       0  --.-KB/s               ^C\n",
      "--2021-01-26 13:38:53--  http://deepyeti.ucsd.edu/jianmo/amazon/categoryFilesSmall/CDs_and_Vinyl_5.json.gz\n",
      "Resolving deepyeti.ucsd.edu (deepyeti.ucsd.edu)... 169.228.63.50\n",
      "Connecting to deepyeti.ucsd.edu (deepyeti.ucsd.edu)|169.228.63.50|:80... ^C\n",
      "--2021-01-26 13:38:53--  http://deepyeti.ucsd.edu/jianmo/amazon/categoryFilesSmall/Cell_Phones_and_Accessories_5.json.gz\n",
      "Resolving deepyeti.ucsd.edu (deepyeti.ucsd.edu)... 169.228.63.50\n",
      "Connecting to deepyeti.ucsd.edu (deepyeti.ucsd.edu)|169.228.63.50|:80... connected.\n",
      "HTTP request sent, awaiting response... ^C\n",
      "--2021-01-26 13:38:53--  http://deepyeti.ucsd.edu/jianmo/amazon/categoryFilesSmall/Clothing_Shoes_and_Jewelry_5.json.gz\n",
      "Resolving deepyeti.ucsd.edu (deepyeti.ucsd.edu)... 169.228.63.50\n",
      "Connecting to deepyeti.ucsd.edu (deepyeti.ucsd.edu)|169.228.63.50|:80... connected.\n",
      "HTTP request sent, awaiting response... 200 OK\n",
      "Length: 1262892731 (1.2G) [application/octet-stream]\n",
      "Saving to: ‘Clothing_Shoes_and_Jewelry_5.json.gz’\n",
      "\n",
      "Clothing_Shoes_and_ 100%[===================>]   1.18G  19.7MB/s    in 65s     \n",
      "\n",
      "2021-01-26 13:39:58 (18.6 MB/s) - ‘Clothing_Shoes_and_Jewelry_5.json.gz’ saved [1262892731/1262892731]\n",
      "\n",
      "--2021-01-26 13:39:58--  http://deepyeti.ucsd.edu/jianmo/amazon/categoryFilesSmall/Digital_Music_5.json.gz\n",
      "Resolving deepyeti.ucsd.edu (deepyeti.ucsd.edu)... 169.228.63.50\n",
      "Connecting to deepyeti.ucsd.edu (deepyeti.ucsd.edu)|169.228.63.50|:80... connected.\n",
      "HTTP request sent, awaiting response... 200 OK\n",
      "Length: 19408584 (19M) [application/octet-stream]\n",
      "Saving to: ‘Digital_Music_5.json.gz’\n",
      "\n",
      "Digital_Music_5.jso 100%[===================>]  18.51M  9.41MB/s    in 2.0s    \n",
      "\n",
      "2021-01-26 13:40:01 (9.41 MB/s) - ‘Digital_Music_5.json.gz’ saved [19408584/19408584]\n",
      "\n",
      "--2021-01-26 13:40:01--  http://deepyeti.ucsd.edu/jianmo/amazon/categoryFilesSmall/Electronics_5.json.gz\n",
      "Resolving deepyeti.ucsd.edu (deepyeti.ucsd.edu)... 169.228.63.50\n",
      "Connecting to deepyeti.ucsd.edu (deepyeti.ucsd.edu)|169.228.63.50|:80... connected.\n",
      "HTTP request sent, awaiting response... 200 OK\n",
      "Length: 1251876861 (1.2G) [application/octet-stream]\n",
      "Saving to: ‘Electronics_5.json.gz’\n",
      "\n",
      "Electronics_5.json. 100%[===================>]   1.17G  18.0MB/s    in 63s     \n",
      "\n",
      "2021-01-26 13:41:04 (18.9 MB/s) - ‘Electronics_5.json.gz’ saved [1251876861/1251876861]\n",
      "\n",
      "--2021-01-26 13:41:05--  http://deepyeti.ucsd.edu/jianmo/amazon/categoryFilesSmall/Gift_Cards_5.json.gz\n",
      "Resolving deepyeti.ucsd.edu (deepyeti.ucsd.edu)... 169.228.63.50\n",
      "Connecting to deepyeti.ucsd.edu (deepyeti.ucsd.edu)|169.228.63.50|:80... connected.\n",
      "HTTP request sent, awaiting response... 200 OK\n",
      "Length: 176952 (173K) [application/octet-stream]\n",
      "Saving to: ‘Gift_Cards_5.json.gz’\n",
      "\n",
      "Gift_Cards_5.json.g 100%[===================>] 172.80K   384KB/s    in 0.4s    \n",
      "\n",
      "2021-01-26 13:41:05 (384 KB/s) - ‘Gift_Cards_5.json.gz’ saved [176952/176952]\n",
      "\n",
      "--2021-01-26 13:41:05--  http://deepyeti.ucsd.edu/jianmo/amazon/categoryFilesSmall/Grocery_and_Gourmet_Food_5.json.gz\n",
      "Resolving deepyeti.ucsd.edu (deepyeti.ucsd.edu)... 169.228.63.50\n",
      "Connecting to deepyeti.ucsd.edu (deepyeti.ucsd.edu)|169.228.63.50|:80... connected.\n",
      "HTTP request sent, awaiting response... 200 OK\n",
      "Length: 146631394 (140M) [application/octet-stream]\n",
      "Saving to: ‘Grocery_and_Gourmet_Food_5.json.gz’\n",
      "\n",
      "Grocery_and_Gourmet 100%[===================>] 139.84M  18.4MB/s    in 8.6s    \n",
      "\n",
      "2021-01-26 13:41:14 (16.2 MB/s) - ‘Grocery_and_Gourmet_Food_5.json.gz’ saved [146631394/146631394]\n",
      "\n",
      "--2021-01-26 13:41:15--  http://deepyeti.ucsd.edu/jianmo/amazon/categoryFilesSmall/Home_and_Kitchen_5.json.gz\n",
      "Resolving deepyeti.ucsd.edu (deepyeti.ucsd.edu)... 169.228.63.50\n",
      "Connecting to deepyeti.ucsd.edu (deepyeti.ucsd.edu)|169.228.63.50|:80... connected.\n",
      "HTTP request sent, awaiting response... 200 OK\n",
      "Length: 953876340 (910M) [application/octet-stream]\n",
      "Saving to: ‘Home_and_Kitchen_5.json.gz’\n",
      "\n",
      "Home_and_Kitchen_5. 100%[===================>] 909.69M  18.4MB/s    in 51s     \n",
      "\n",
      "2021-01-26 13:42:06 (17.8 MB/s) - ‘Home_and_Kitchen_5.json.gz’ saved [953876340/953876340]\n",
      "\n",
      "--2021-01-26 13:42:06--  http://deepyeti.ucsd.edu/jianmo/amazon/categoryFilesSmall/Industrial_and_Scientific_5.json.gz\n",
      "Resolving deepyeti.ucsd.edu (deepyeti.ucsd.edu)... 169.228.63.50\n",
      "Connecting to deepyeti.ucsd.edu (deepyeti.ucsd.edu)|169.228.63.50|:80... connected.\n",
      "HTTP request sent, awaiting response... 200 OK\n",
      "Length: 10994038 (10M) [application/octet-stream]\n",
      "Saving to: ‘Industrial_and_Scientific_5.json.gz’\n",
      "\n",
      "Industrial_and_Scie 100%[===================>]  10.48M  6.92MB/s    in 1.5s    \n",
      "\n",
      "2021-01-26 13:42:08 (6.92 MB/s) - ‘Industrial_and_Scientific_5.json.gz’ saved [10994038/10994038]\n",
      "\n",
      "--2021-01-26 13:42:08--  http://deepyeti.ucsd.edu/jianmo/amazon/categoryFilesSmall/Kindle_Store_5.json.gz\n",
      "Resolving deepyeti.ucsd.edu (deepyeti.ucsd.edu)... 169.228.63.50\n",
      "Connecting to deepyeti.ucsd.edu (deepyeti.ucsd.edu)|169.228.63.50|:80... connected.\n",
      "HTTP request sent, awaiting response... 200 OK\n",
      "Length: 538673481 (514M) [application/octet-stream]\n",
      "Saving to: ‘Kindle_Store_5.json.gz’\n",
      "\n",
      "Kindle_Store_5.json 100%[===================>] 513.72M  18.3MB/s    in 29s     \n",
      "\n",
      "2021-01-26 13:42:38 (17.6 MB/s) - ‘Kindle_Store_5.json.gz’ saved [538673481/538673481]\n",
      "\n",
      "--2021-01-26 13:42:38--  http://deepyeti.ucsd.edu/jianmo/amazon/categoryFilesSmall/Luxury_Beauty_5.json.gz\n",
      "Resolving deepyeti.ucsd.edu (deepyeti.ucsd.edu)... 169.228.63.50\n",
      "Connecting to deepyeti.ucsd.edu (deepyeti.ucsd.edu)|169.228.63.50|:80... connected.\n",
      "HTTP request sent, awaiting response... 200 OK\n",
      "Length: 7356868 (7.0M) [application/octet-stream]\n",
      "Saving to: ‘Luxury_Beauty_5.json.gz’\n",
      "\n",
      "Luxury_Beauty_5.jso 100%[===================>]   7.02M  5.16MB/s    in 1.4s    \n",
      "\n",
      "2021-01-26 13:42:40 (5.16 MB/s) - ‘Luxury_Beauty_5.json.gz’ saved [7356868/7356868]\n",
      "\n",
      "--2021-01-26 13:42:40--  http://deepyeti.ucsd.edu/jianmo/amazon/categoryFilesSmall/Magazine_Subscriptions_5.json.gz\n",
      "Resolving deepyeti.ucsd.edu (deepyeti.ucsd.edu)... 169.228.63.50\n",
      "Connecting to deepyeti.ucsd.edu (deepyeti.ucsd.edu)|169.228.63.50|:80... connected.\n",
      "HTTP request sent, awaiting response... 200 OK\n",
      "Length: 401655 (392K) [application/octet-stream]\n",
      "Saving to: ‘Magazine_Subscriptions_5.json.gz’\n",
      "\n",
      "Magazine_Subscripti 100%[===================>] 392.24K   646KB/s    in 0.6s    \n",
      "\n",
      "2021-01-26 13:42:41 (646 KB/s) - ‘Magazine_Subscriptions_5.json.gz’ saved [401655/401655]\n",
      "\n",
      "--2021-01-26 13:42:41--  http://deepyeti.ucsd.edu/jianmo/amazon/categoryFilesSmall/Movies_and_TV_5.json.gz\n",
      "Resolving deepyeti.ucsd.edu (deepyeti.ucsd.edu)... 169.228.63.50\n",
      "Connecting to deepyeti.ucsd.edu (deepyeti.ucsd.edu)|169.228.63.50|:80... connected.\n",
      "HTTP request sent, awaiting response... 200 OK\n",
      "Length: 791322468 (755M) [application/octet-stream]\n",
      "Saving to: ‘Movies_and_TV_5.json.gz’\n",
      "\n",
      "Movies_and_TV_5.jso 100%[===================>] 754.66M  18.6MB/s    in 42s     \n",
      "\n",
      "2021-01-26 13:43:23 (17.9 MB/s) - ‘Movies_and_TV_5.json.gz’ saved [791322468/791322468]\n",
      "\n",
      "--2021-01-26 13:43:23--  http://deepyeti.ucsd.edu/jianmo/amazon/categoryFilesSmall/Musical_Instruments_5.json.gz\n",
      "Resolving deepyeti.ucsd.edu (deepyeti.ucsd.edu)... 169.228.63.50\n",
      "Connecting to deepyeti.ucsd.edu (deepyeti.ucsd.edu)|169.228.63.50|:80... connected.\n",
      "HTTP request sent, awaiting response... 200 OK\n",
      "Length: 39356138 (38M) [application/octet-stream]\n",
      "Saving to: ‘Musical_Instruments_5.json.gz’\n",
      "\n",
      "Musical_Instruments 100%[===================>]  37.53M  12.5MB/s    in 3.0s    \n",
      "\n",
      "2021-01-26 13:43:27 (12.5 MB/s) - ‘Musical_Instruments_5.json.gz’ saved [39356138/39356138]\n",
      "\n",
      "--2021-01-26 13:43:27--  http://deepyeti.ucsd.edu/jianmo/amazon/categoryFilesSmall/Office_Products_5.json.gz\n",
      "Resolving deepyeti.ucsd.edu (deepyeti.ucsd.edu)... 169.228.63.50\n",
      "Connecting to deepyeti.ucsd.edu (deepyeti.ucsd.edu)|169.228.63.50|:80... connected.\n",
      "HTTP request sent, awaiting response... 200 OK\n",
      "Length: 111685374 (107M) [application/octet-stream]\n",
      "Saving to: ‘Office_Products_5.json.gz’\n",
      "\n",
      "Office_Products_5.j 100%[===================>] 106.51M  18.6MB/s    in 6.8s    \n",
      "\n",
      "2021-01-26 13:43:34 (15.7 MB/s) - ‘Office_Products_5.json.gz’ saved [111685374/111685374]\n",
      "\n",
      "--2021-01-26 13:43:34--  http://deepyeti.ucsd.edu/jianmo/amazon/categoryFilesSmall/Patio_Lawn_and_Garden_5.json.gz\n",
      "Resolving deepyeti.ucsd.edu (deepyeti.ucsd.edu)... 169.228.63.50\n",
      "Connecting to deepyeti.ucsd.edu (deepyeti.ucsd.edu)|169.228.63.50|:80... connected.\n",
      "HTTP request sent, awaiting response... 200 OK\n",
      "Length: 115147473 (110M) [application/octet-stream]\n",
      "Saving to: ‘Patio_Lawn_and_Garden_5.json.gz’\n",
      "\n",
      "Patio_Lawn_and_Gard 100%[===================>] 109.81M  18.8MB/s    in 6.9s    \n",
      "\n",
      "2021-01-26 13:43:41 (16.0 MB/s) - ‘Patio_Lawn_and_Garden_5.json.gz’ saved [115147473/115147473]\n",
      "\n",
      "--2021-01-26 13:43:41--  http://deepyeti.ucsd.edu/jianmo/amazon/categoryFilesSmall/Pet_Supplies_5.json.gz\n",
      "Resolving deepyeti.ucsd.edu (deepyeti.ucsd.edu)... 169.228.63.50\n",
      "Connecting to deepyeti.ucsd.edu (deepyeti.ucsd.edu)|169.228.63.50|:80... connected.\n",
      "HTTP request sent, awaiting response... 200 OK\n",
      "Length: 306131006 (292M) [application/octet-stream]\n",
      "Saving to: ‘Pet_Supplies_5.json.gz’\n",
      "\n",
      "Pet_Supplies_5.json 100%[===================>] 291.95M  18.8MB/s    in 17s     \n",
      "\n",
      "2021-01-26 13:43:58 (17.3 MB/s) - ‘Pet_Supplies_5.json.gz’ saved [306131006/306131006]\n",
      "\n",
      "--2021-01-26 13:43:59--  http://deepyeti.ucsd.edu/jianmo/amazon/categoryFilesSmall/Prime_Pantry_5.json.gz\n",
      "Resolving deepyeti.ucsd.edu (deepyeti.ucsd.edu)... 169.228.63.50\n",
      "Connecting to deepyeti.ucsd.edu (deepyeti.ucsd.edu)|169.228.63.50|:80... connected.\n",
      "HTTP request sent, awaiting response... 200 OK\n",
      "Length: 11837057 (11M) [application/octet-stream]\n",
      "Saving to: ‘Prime_Pantry_5.json.gz’\n",
      "\n",
      "Prime_Pantry_5.json 100%[===================>]  11.29M  7.35MB/s    in 1.5s    \n",
      "\n",
      "2021-01-26 13:44:01 (7.35 MB/s) - ‘Prime_Pantry_5.json.gz’ saved [11837057/11837057]\n",
      "\n",
      "--2021-01-26 13:44:01--  http://deepyeti.ucsd.edu/jianmo/amazon/categoryFilesSmall/Software_5.json.gz\n",
      "Resolving deepyeti.ucsd.edu (deepyeti.ucsd.edu)... 169.228.63.50\n",
      "Connecting to deepyeti.ucsd.edu (deepyeti.ucsd.edu)|169.228.63.50|:80... connected.\n",
      "HTTP request sent, awaiting response... 200 OK\n",
      "Length: 5339013 (5.1M) [application/octet-stream]\n",
      "Saving to: ‘Software_5.json.gz’\n",
      "\n",
      "Software_5.json.gz  100%[===================>]   5.09M  4.22MB/s    in 1.2s    \n",
      "\n",
      "2021-01-26 13:44:02 (4.22 MB/s) - ‘Software_5.json.gz’ saved [5339013/5339013]\n",
      "\n",
      "--2021-01-26 13:44:02--  http://deepyeti.ucsd.edu/jianmo/amazon/categoryFilesSmall/Sports_and_Outdoors_5.json.gz\n",
      "Resolving deepyeti.ucsd.edu (deepyeti.ucsd.edu)... 169.228.63.50\n",
      "Connecting to deepyeti.ucsd.edu (deepyeti.ucsd.edu)|169.228.63.50|:80... connected.\n",
      "HTTP request sent, awaiting response... 200 OK\n",
      "Length: 414308704 (395M) [application/octet-stream]\n",
      "Saving to: ‘Sports_and_Outdoors_5.json.gz’\n",
      "\n",
      "Sports_and_Outdoors 100%[===================>] 395.12M  18.6MB/s    in 22s     \n",
      "\n",
      "2021-01-26 13:44:25 (17.6 MB/s) - ‘Sports_and_Outdoors_5.json.gz’ saved [414308704/414308704]\n",
      "\n",
      "--2021-01-26 13:44:25--  http://deepyeti.ucsd.edu/jianmo/amazon/categoryFilesSmall/Tools_and_Home_Improvement_5.json.gz\n",
      "Resolving deepyeti.ucsd.edu (deepyeti.ucsd.edu)... 169.228.63.50\n",
      "Connecting to deepyeti.ucsd.edu (deepyeti.ucsd.edu)|169.228.63.50|:80... connected.\n",
      "HTTP request sent, awaiting response... 200 OK\n",
      "Length: 309844033 (295M) [application/octet-stream]\n",
      "Saving to: ‘Tools_and_Home_Improvement_5.json.gz’\n",
      "\n",
      "Tools_and_Home_Impr 100%[===================>] 295.49M  18.5MB/s    in 17s     \n",
      "\n",
      "2021-01-26 13:44:43 (17.1 MB/s) - ‘Tools_and_Home_Improvement_5.json.gz’ saved [309844033/309844033]\n",
      "\n",
      "--2021-01-26 13:44:43--  http://deepyeti.ucsd.edu/jianmo/amazon/categoryFilesSmall/Toys_and_Games_5.json.gz\n",
      "Resolving deepyeti.ucsd.edu (deepyeti.ucsd.edu)... 169.228.63.50\n",
      "Connecting to deepyeti.ucsd.edu (deepyeti.ucsd.edu)|169.228.63.50|:80... connected.\n",
      "HTTP request sent, awaiting response... 200 OK\n",
      "Length: 242925873 (232M) [application/octet-stream]\n",
      "Saving to: ‘Toys_and_Games_5.json.gz’\n",
      "\n",
      "Toys_and_Games_5.js 100%[===================>] 231.67M  18.0MB/s    in 14s     \n",
      "\n",
      "2021-01-26 13:44:56 (17.1 MB/s) - ‘Toys_and_Games_5.json.gz’ saved [242925873/242925873]\n",
      "\n",
      "--2021-01-26 13:44:57--  http://deepyeti.ucsd.edu/jianmo/amazon/categoryFilesSmall/Video_Games_5.json.gz\n",
      "Resolving deepyeti.ucsd.edu (deepyeti.ucsd.edu)... 169.228.63.50\n",
      "Connecting to deepyeti.ucsd.edu (deepyeti.ucsd.edu)|169.228.63.50|:80... connected.\n",
      "HTTP request sent, awaiting response... 200 OK\n",
      "Length: 154050105 (147M) [application/octet-stream]\n",
      "Saving to: ‘Video_Games_5.json.gz’\n",
      "\n",
      "Video_Games_5.json. 100%[===================>] 146.91M  18.0MB/s    in 9.0s    \n",
      "\n",
      "2021-01-26 13:45:06 (16.3 MB/s) - ‘Video_Games_5.json.gz’ saved [154050105/154050105]\n",
      "\n"
     ],
     "name": "stdout"
    }
   ]
  },
  {
   "cell_type": "markdown",
   "metadata": {
    "id": "AUEitCyfR804"
   },
   "source": [
    "### Create Dataframe"
   ]
  },
  {
   "cell_type": "code",
   "metadata": {
    "id": "vcdd-tVwR_oV"
   },
   "source": [
    "category_files = ['AMAZON_FASHION_5.json.gz', 'Appliances_5.json.gz', 'All_Beauty_5.json.gz', 'Arts_Crafts_and_Sewing_5.json.gz', 'Automotive_5.json.gz', 'CDs_and_Vinyl_5.json.gz', 'Cell_Phones_and_Accessories_5.json.gz', 'Clothing_Shoes_and_Jewelry_5.json.gz', 'Digital_Music_5.json.gz', 'Electronics_5.json.gz', 'Gift_Cards_5.json.gz', 'Grocery_and_Gourmet_Food_5.json.gz', 'Home_and_Kitchen_5.json.gz', 'Industrial_and_Scientific_5.json.gz', 'Kindle_Store_5.json.gz', 'Luxury_Beauty_5.json.gz', 'Magazine_Subscriptions_5.json.gz', 'Movies_and_TV_5.json.gz', 'Musical_Instruments_5.json.gz', 'Office_Products_5.json.gz', 'Patio_Lawn_and_Garden_5.json.gz', 'Pet_Supplies_5.json.gz', 'Prime_Pantry_5.json.gz', 'Software_5.json.gz', 'Sports_and_Outdoors_5.json.gz', 'Tools_and_Home_Improvement_5.json.gz', 'Toys_and_Games_5.json.gz', 'Video_Games_5.json.gz']\n",
    "df = pd.DataFrame();\n",
    "data = []\n",
    "file = category_files[0]\n",
    "with gzip.open(file) as f:\n",
    "    print(\"Opening file: \" + file)\n",
    "    for l in f:\n",
    "        data.append(json.loads(l.strip()))\n",
    "    print(\"Done with list.\")\n",
    "\n",
    "df_temp = pd.DataFrame.from_dict(data)\n",
    "print(\"Done with Dataframe.\")\n",
    "\n",
    "df_temp[\"category\"] = file.split('_5')[0]\n",
    "df = df.append(df_temp)\n",
    "\n",
    "print(len(df))"
   ],
   "execution_count": null,
   "outputs": []
  },
  {
   "cell_type": "markdown",
   "metadata": {
    "id": "S_Y9GvYgSCQQ"
   },
   "source": [
    "### Filter Dataframe"
   ]
  },
  {
   "cell_type": "markdown",
   "metadata": {
    "id": "qRehivpSSEN-"
   },
   "source": [
    "#### Only 2017 or 2018"
   ]
  },
  {
   "cell_type": "code",
   "metadata": {
    "id": "tp5tIpjSSKJE"
   },
   "source": [
    "df_filteredByDate = df[df['reviewTime'].str.contains('2017|2018')]\n",
    "print(len(df_filteredByDate))"
   ],
   "execution_count": null,
   "outputs": []
  },
  {
   "cell_type": "markdown",
   "metadata": {
    "id": "nVsoG1RXSIvQ"
   },
   "source": [
    "#### Drop unneeded columns"
   ]
  },
  {
   "cell_type": "code",
   "metadata": {
    "id": "20Hpmj-pSPOr"
   },
   "source": [
    "df_slim = df_filteredByDate.drop(['verified', 'reviewTime', 'style', 'reviewerName', 'unixReviewTime', 'image', 'vote'], axis=1)\n",
    "print(len(df_slim))\n",
    "df_slim.head()"
   ],
   "execution_count": null,
   "outputs": []
  },
  {
   "cell_type": "markdown",
   "metadata": {
    "id": "Z9eEMPD11yc3"
   },
   "source": [
    "#### OR Keep only necessary columns"
   ]
  },
  {
   "cell_type": "code",
   "metadata": {
    "id": "opuIunZ80Tea"
   },
   "source": [
    "df_slim = df_filteredByDate[['ID', 'overall', 'reviewerID', 'asin', 'reviewText', 'summary', 'category']]"
   ],
   "execution_count": null,
   "outputs": []
  },
  {
   "cell_type": "markdown",
   "metadata": {
    "id": "r7T41NthSbye"
   },
   "source": [
    "#### Drop Duplicates"
   ]
  },
  {
   "cell_type": "code",
   "metadata": {
    "id": "TYLxmE8VSRGT"
   },
   "source": [
    "df_noDP = df_slim.drop_duplicates()\n",
    "print(len(df_noDP))"
   ],
   "execution_count": null,
   "outputs": []
  },
  {
   "cell_type": "markdown",
   "metadata": {
    "id": "OTzFWaB3SgHo"
   },
   "source": [
    "### Export Filtered Dataframe"
   ]
  },
  {
   "cell_type": "code",
   "metadata": {
    "id": "a7noLYv8SjRU"
   },
   "source": [
    "df_noDP.to_csv('./Exports/' + df['category'][0] + '.csv')\n",
    "print('Exported file: ' + df['category'][0])"
   ],
   "execution_count": null,
   "outputs": []
  },
  {
   "cell_type": "markdown",
   "metadata": {
    "id": "-Q9j8d_iS9Lp"
   },
   "source": [
    "### Import all CSV files into one dataframe"
   ]
  },
  {
   "cell_type": "code",
   "metadata": {
    "id": "82TxdqkeTAAK"
   },
   "source": [
    "all_files = ['AMAZON_FASHION.csv', 'Appliances.csv', 'All_Beauty.csv', 'Arts_Crafts_and_Sewing.csv', 'Automotive.csv', 'CDs_and_Vinyl.csv', 'Cell_Phones_and_Accessories.csv', 'Clothing_Shoes_and_Jewelry.csv', 'Digital_Music.csv', 'Electronics.csv', 'Gift_Cards.csv', 'Grocery_and_Gourmet_Food.csv', 'Home_and_Kitchen.csv', 'Industrial_and_Scientific.csv', 'Kindle_Store.csv', 'Luxury_Beauty.csv', 'Magazine_Subscriptions.csv', 'Movies_and_TV.csv', 'Musical_Instruments.csv', 'Office_Products.csv', 'Patio_Lawn_and_Garden.csv', 'Pet_Supplies.csv', 'Prime_Pantry.csv', 'Software.csv', 'Sports_and_Outdoors.csv', 'Tools_and_Home_Improvement.csv', 'Toys_and_Games.csv', 'Video_Games.csv']\n",
    "\n",
    "df = pd.DataFrame()\n",
    "\n",
    "for filename in all_files:\n",
    "    df_final = pd.read_csv('Exports/' + filename, engine='python', error_bad_lines=False)\n",
    "    df = df.append(df_final)\n",
    "\n",
    "df = df.drop(['Unnamed: 0'], axis=1)\n",
    "df.head()"
   ],
   "execution_count": null,
   "outputs": []
  },
  {
   "cell_type": "markdown",
   "metadata": {
    "id": "VGgrqSJXTEmb"
   },
   "source": [
    "Export Final Dataframe"
   ]
  },
  {
   "cell_type": "code",
   "metadata": {
    "id": "ezBzT6VLTHF3"
   },
   "source": [
    "df.to_csv('./Exports/final_dataset.csv')\n",
    "print('Exported final dataset.')"
   ],
   "execution_count": null,
   "outputs": []
  }
 ]
}